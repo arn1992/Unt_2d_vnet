{
 "cells": [
  {
   "cell_type": "code",
   "execution_count": 1,
   "metadata": {},
   "outputs": [
    {
     "name": "stdout",
     "output_type": "stream",
     "text": [
      "/device:GPU:0\n",
      "2.1.0\n"
     ]
    }
   ],
   "source": [
    "import tensorflow as tf\n",
    "import warnings\n",
    "\n",
    "if not tf.test.gpu_device_name():\n",
    "    warnings.warn (\"mama\")\n",
    "else:\n",
    "    print(tf.test.gpu_device_name())\n",
    "\n",
    "print(tf.version.VERSION)\n"
   ]
  },
  {
   "cell_type": "code",
   "execution_count": 2,
   "metadata": {},
   "outputs": [
    {
     "name": "stderr",
     "output_type": "stream",
     "text": [
      "Using TensorFlow backend.\n"
     ]
    }
   ],
   "source": [
    "#import sys\n",
    "#!{sys.executable} -m pip install sk\n",
    "import os\n",
    "import torch.nn.functional as F\n",
    "import torch\n",
    "import random\n",
    "import pandas as pd\n",
    "import numpy as np\n",
    "import matplotlib.pyplot as plt\n",
    "plt.style.use(\"ggplot\")\n",
    "from tqdm import tqdm_notebook, tnrange\n",
    "from itertools import chain\n",
    "from skimage.io import imread, imshow, concatenate_images\n",
    "from skimage.transform import resize\n",
    "from skimage.morphology import label\n",
    "from sklearn.model_selection import train_test_split\n",
    "import tensorflow as tf\n",
    "from keras.models import Model, load_model\n",
    "from keras.layers import Input, BatchNormalization, Activation, Dense, Dropout\n",
    "from keras.layers.core import Lambda, RepeatVector, Reshape\n",
    "from keras.layers.convolutional import Conv2D, Conv2DTranspose, Conv3D\n",
    "from keras.layers.pooling import MaxPooling2D, GlobalMaxPool2D\n",
    "from keras.layers.merge import concatenate, add\n",
    "from keras.callbacks import EarlyStopping, ModelCheckpoint, ReduceLROnPlateau\n",
    "from keras.optimizers import Adam\n",
    "from keras.preprocessing.image import ImageDataGenerator, array_to_img, img_to_array, load_img"
   ]
  },
  {
   "cell_type": "code",
   "execution_count": 4,
   "metadata": {},
   "outputs": [
    {
     "name": "stdout",
     "output_type": "stream",
     "text": [
      "(120, 128, 128, 128, 1) <class 'numpy.ndarray'>\n",
      "(120, 128, 128, 128, 1) <class 'numpy.ndarray'>\n"
     ]
    }
   ],
   "source": [
    "X=np.load('D:/aminur/data/train_120.npy')\n",
    "y=np.load('D:/aminur/data/test_120.npy')\n",
    "print(X.shape,type(X))\n",
    "#X=X.reshape(200,128,128,128)\n",
    "#print('x',X[1])\n",
    "print(y.shape,type(y))\n",
    "#print ('y',y[1])"
   ]
  },
  {
   "cell_type": "code",
   "execution_count": 7,
   "metadata": {},
   "outputs": [
    {
     "name": "stdout",
     "output_type": "stream",
     "text": [
      "(84, 128, 128, 128, 1) (36, 128, 128, 128, 1) (84, 128, 128, 128, 1) (36, 128, 128, 128, 1)\n"
     ]
    }
   ],
   "source": [
    "# Split train and valid\n",
    "X_train, X_valid, y_train, y_valid = train_test_split(X, y, test_size=0.30, random_state=42)\n",
    "print(X_train.shape, X_valid.shape,y_train.shape,y_valid.shape)"
   ]
  },
  {
   "cell_type": "code",
   "execution_count": 8,
   "metadata": {},
   "outputs": [],
   "source": [
    "from keras import backend as K \n",
    "def dice_coefficient(y_true, y_pred, smooth=1.):\n",
    "    y_true_f = K.flatten(y_true)\n",
    "    y_pred_f = K.flatten(y_pred)\n",
    "    intersection = K.sum(y_true_f * y_pred_f)\n",
    "    return (2. * intersection + smooth) / (K.sum(y_true_f) + K.sum(y_pred_f) + smooth)\n",
    "\n",
    "\n",
    "def dice_coefficient_loss(y_true, y_pred):\n",
    "    return -dice_coefficient(y_true, y_pred)\n",
    "\n",
    "\n",
    "def weighted_dice_coefficient(y_true, y_pred, axis=(-3, -2, -1), smooth=0.00001):\n",
    "    \"\"\"\n",
    "    Weighted dice coefficient. Default axis assumes a \"channels first\" data structure\n",
    "    :param smooth:\n",
    "    :param y_true:\n",
    "    :param y_pred:\n",
    "    :param axis:\n",
    "    :return:\n",
    "    \"\"\"\n",
    "    return K.mean(2. * (K.sum(y_true * y_pred,\n",
    "                              axis=axis) + smooth/2)/(K.sum(y_true,\n",
    "                                                            axis=axis) + K.sum(y_pred,\n",
    "                                                                               axis=axis) + smooth))\n",
    "\n",
    "\n",
    "def weighted_dice_coefficient_loss(y_true, y_pred):\n",
    "    return -weighted_dice_coefficient(y_true, y_pred)\n"
   ]
  },
  {
   "cell_type": "code",
   "execution_count": 82,
   "metadata": {},
   "outputs": [],
   "source": [
    "from keras.layers.pooling import MaxPooling3D, GlobalMaxPool3D\n",
    "from keras.layers.convolutional import Conv2D, Conv3DTranspose, Conv3D\n",
    "import keras\n",
    "from keras.layers import SpatialDropout3D\n",
    "from keras.layers import LeakyReLU\n",
    "#from keras.layers.advanced_activations import PReLU\n",
    "#from keras.layers import PReLU\n",
    "def conv2d_block(input_tensor, n_filters, kernel_size=3, batchnorm=True):\n",
    "    # first layer\n",
    "    x = Conv3D(filters=n_filters, kernel_size=(kernel_size, kernel_size,kernel_size), kernel_initializer=\"he_normal\",\n",
    "               padding=\"same\")(input_tensor)\n",
    "    if batchnorm:\n",
    "        x = BatchNormalization()(x)\n",
    "    #x = LeakyReLU(alpha=0.2)(x)\n",
    "    #x = Activation(\"relu\")(x)\n",
    "    #x=keras.layers.advanced_activations.PReLU()(x)\n",
    "    # second layer\n",
    "    x = Conv3D(filters=n_filters, kernel_size=(kernel_size, kernel_size,kernel_size), kernel_initializer=\"he_normal\",\n",
    "               padding=\"same\")(x)\n",
    "    if batchnorm:\n",
    "        x = BatchNormalization()(x)\n",
    "    #x =LeakyReLU(alpha=0.2)(x)\n",
    "    #x = Activation(\"relu\")(x)\n",
    "    #x=keras.layers.advanced_activations.PReLU()(x)\n",
    "    return x"
   ]
  },
  {
   "cell_type": "code",
   "execution_count": 83,
   "metadata": {},
   "outputs": [],
   "source": [
    "def get_unet(input_img, n_filters=16, dropout=0.25, batchnorm=True):\n",
    "    # contracting path\n",
    "    c1 = conv2d_block(input_img, n_filters=n_filters*1, kernel_size=3, batchnorm=batchnorm)\n",
    "    p1 = MaxPooling3D((2, 2,2)) (c1)\n",
    "    p1 = SpatialDropout3D(dropout)(p1)\n",
    "\n",
    "    c2 = conv2d_block(p1, n_filters=n_filters*2, kernel_size=3, batchnorm=batchnorm)\n",
    "    p2 = MaxPooling3D((2, 2,2)) (c2)\n",
    "    p2 = SpatialDropout3D(dropout)(p2)\n",
    "\n",
    "    c3 = conv2d_block(p2, n_filters=n_filters*4, kernel_size=3, batchnorm=batchnorm)\n",
    "    p3 = MaxPooling3D((2, 2,2)) (c3)\n",
    "    p3 = SpatialDropout3D(dropout)(p3)\n",
    "\n",
    "    c4 = conv2d_block(p3, n_filters=n_filters*8, kernel_size=3, batchnorm=batchnorm)\n",
    "    p4 = MaxPooling3D(pool_size=(2, 2,2)) (c4)\n",
    "    p4 = SpatialDropout3D(dropout)(p4)\n",
    "    \n",
    "    #autoencoder.add(Flatten())\n",
    "    #autoencoder.add(Reshape((1,12, 12,32 )))\n",
    "    \n",
    "    c5 = conv2d_block(p4, n_filters=n_filters*16, kernel_size=3, batchnorm=batchnorm)\n",
    "    \n",
    "    # expansive path\n",
    "    u6 = Conv3DTranspose(n_filters*8, (3, 3,3), strides=(2,2,2),padding='same')(c5)\n",
    "    #u6= Activation(\"relu\")(u6)\n",
    "    u6 = concatenate([u6, c4])\n",
    "    u6 = SpatialDropout3D(dropout)(u6)\n",
    "    c6 = conv2d_block(u6, n_filters=n_filters*8, kernel_size=3, batchnorm=batchnorm) \n",
    "    \n",
    "\n",
    "    u7 = Conv3DTranspose(n_filters*4, (3, 3,3), strides=(2, 2,2), padding='same')(c6)\n",
    "    #u7= Activation(\"relu\")(u7)\n",
    "    u7 = concatenate([u7, c3])\n",
    "    u7 = SpatialDropout3D(dropout)(u7)\n",
    "    c7 = conv2d_block(u7, n_filters=n_filters*4, kernel_size=3, batchnorm=batchnorm)\n",
    "\n",
    "    u8 = Conv3DTranspose(n_filters*2, (3, 3,3), strides=(2, 2,2),padding='same')(c7) \n",
    "    #u8= Activation(\"relu\")(u8)\n",
    "    u8 = concatenate([u8, c2])\n",
    "    u8 = SpatialDropout3D(dropout)(u8)\n",
    "    c8 = conv2d_block(u8, n_filters=n_filters*2, kernel_size=3, batchnorm=batchnorm)\n",
    "\n",
    "    u9 = Conv3DTranspose(n_filters*1, (3, 3,3), strides=(2, 2,2),padding='same',name='man1')(c8)\n",
    "    #u9= Activation(\"relu\")(u9)\n",
    "    u9 = concatenate([u9, c1],axis=4)\n",
    "    u9 = SpatialDropout3D(dropout)(u9)\n",
    "    c9 = conv2d_block(u9, n_filters=n_filters*1, kernel_size=3, batchnorm=batchnorm)\n",
    "    \n",
    "    outputs = Conv3D(1, (1, 1,1), activation='tanh')(c9)\n",
    "    model = Model(inputs=[input_img], outputs=[outputs])\n",
    "    return model"
   ]
  },
  {
   "cell_type": "code",
   "execution_count": 84,
   "metadata": {},
   "outputs": [
    {
     "name": "stdout",
     "output_type": "stream",
     "text": [
      "Model: \"model_3\"\n",
      "__________________________________________________________________________________________________\n",
      "Layer (type)                    Output Shape         Param #     Connected to                     \n",
      "==================================================================================================\n",
      "img (InputLayer)                (None, 128, 128, 128 0                                            \n",
      "__________________________________________________________________________________________________\n",
      "conv3d_39 (Conv3D)              (None, 128, 128, 128 448         img[0][0]                        \n",
      "__________________________________________________________________________________________________\n",
      "batch_normalization_37 (BatchNo (None, 128, 128, 128 64          conv3d_39[0][0]                  \n",
      "__________________________________________________________________________________________________\n",
      "conv3d_40 (Conv3D)              (None, 128, 128, 128 6928        batch_normalization_37[0][0]     \n",
      "__________________________________________________________________________________________________\n",
      "batch_normalization_38 (BatchNo (None, 128, 128, 128 64          conv3d_40[0][0]                  \n",
      "__________________________________________________________________________________________________\n",
      "max_pooling3d_9 (MaxPooling3D)  (None, 64, 64, 64, 1 0           batch_normalization_38[0][0]     \n",
      "__________________________________________________________________________________________________\n",
      "spatial_dropout3d_17 (SpatialDr (None, 64, 64, 64, 1 0           max_pooling3d_9[0][0]            \n",
      "__________________________________________________________________________________________________\n",
      "conv3d_41 (Conv3D)              (None, 64, 64, 64, 3 13856       spatial_dropout3d_17[0][0]       \n",
      "__________________________________________________________________________________________________\n",
      "batch_normalization_39 (BatchNo (None, 64, 64, 64, 3 128         conv3d_41[0][0]                  \n",
      "__________________________________________________________________________________________________\n",
      "conv3d_42 (Conv3D)              (None, 64, 64, 64, 3 27680       batch_normalization_39[0][0]     \n",
      "__________________________________________________________________________________________________\n",
      "batch_normalization_40 (BatchNo (None, 64, 64, 64, 3 128         conv3d_42[0][0]                  \n",
      "__________________________________________________________________________________________________\n",
      "max_pooling3d_10 (MaxPooling3D) (None, 32, 32, 32, 3 0           batch_normalization_40[0][0]     \n",
      "__________________________________________________________________________________________________\n",
      "spatial_dropout3d_18 (SpatialDr (None, 32, 32, 32, 3 0           max_pooling3d_10[0][0]           \n",
      "__________________________________________________________________________________________________\n",
      "conv3d_43 (Conv3D)              (None, 32, 32, 32, 6 55360       spatial_dropout3d_18[0][0]       \n",
      "__________________________________________________________________________________________________\n",
      "batch_normalization_41 (BatchNo (None, 32, 32, 32, 6 256         conv3d_43[0][0]                  \n",
      "__________________________________________________________________________________________________\n",
      "conv3d_44 (Conv3D)              (None, 32, 32, 32, 6 110656      batch_normalization_41[0][0]     \n",
      "__________________________________________________________________________________________________\n",
      "batch_normalization_42 (BatchNo (None, 32, 32, 32, 6 256         conv3d_44[0][0]                  \n",
      "__________________________________________________________________________________________________\n",
      "max_pooling3d_11 (MaxPooling3D) (None, 16, 16, 16, 6 0           batch_normalization_42[0][0]     \n",
      "__________________________________________________________________________________________________\n",
      "spatial_dropout3d_19 (SpatialDr (None, 16, 16, 16, 6 0           max_pooling3d_11[0][0]           \n",
      "__________________________________________________________________________________________________\n",
      "conv3d_45 (Conv3D)              (None, 16, 16, 16, 1 221312      spatial_dropout3d_19[0][0]       \n",
      "__________________________________________________________________________________________________\n",
      "batch_normalization_43 (BatchNo (None, 16, 16, 16, 1 512         conv3d_45[0][0]                  \n",
      "__________________________________________________________________________________________________\n",
      "conv3d_46 (Conv3D)              (None, 16, 16, 16, 1 442496      batch_normalization_43[0][0]     \n",
      "__________________________________________________________________________________________________\n",
      "batch_normalization_44 (BatchNo (None, 16, 16, 16, 1 512         conv3d_46[0][0]                  \n",
      "__________________________________________________________________________________________________\n",
      "max_pooling3d_12 (MaxPooling3D) (None, 8, 8, 8, 128) 0           batch_normalization_44[0][0]     \n",
      "__________________________________________________________________________________________________\n",
      "spatial_dropout3d_20 (SpatialDr (None, 8, 8, 8, 128) 0           max_pooling3d_12[0][0]           \n",
      "__________________________________________________________________________________________________\n",
      "conv3d_47 (Conv3D)              (None, 8, 8, 8, 256) 884992      spatial_dropout3d_20[0][0]       \n",
      "__________________________________________________________________________________________________\n",
      "batch_normalization_45 (BatchNo (None, 8, 8, 8, 256) 1024        conv3d_47[0][0]                  \n",
      "__________________________________________________________________________________________________\n",
      "conv3d_48 (Conv3D)              (None, 8, 8, 8, 256) 1769728     batch_normalization_45[0][0]     \n",
      "__________________________________________________________________________________________________\n",
      "batch_normalization_46 (BatchNo (None, 8, 8, 8, 256) 1024        conv3d_48[0][0]                  \n",
      "__________________________________________________________________________________________________\n",
      "conv3d_transpose_7 (Conv3DTrans (None, 16, 16, 16, 1 884864      batch_normalization_46[0][0]     \n",
      "__________________________________________________________________________________________________\n",
      "concatenate_9 (Concatenate)     (None, 16, 16, 16, 2 0           conv3d_transpose_7[0][0]         \n",
      "                                                                 batch_normalization_44[0][0]     \n",
      "__________________________________________________________________________________________________\n",
      "spatial_dropout3d_21 (SpatialDr (None, 16, 16, 16, 2 0           concatenate_9[0][0]              \n",
      "__________________________________________________________________________________________________\n",
      "conv3d_49 (Conv3D)              (None, 16, 16, 16, 1 884864      spatial_dropout3d_21[0][0]       \n",
      "__________________________________________________________________________________________________\n",
      "batch_normalization_47 (BatchNo (None, 16, 16, 16, 1 512         conv3d_49[0][0]                  \n",
      "__________________________________________________________________________________________________\n",
      "conv3d_50 (Conv3D)              (None, 16, 16, 16, 1 442496      batch_normalization_47[0][0]     \n",
      "__________________________________________________________________________________________________\n",
      "batch_normalization_48 (BatchNo (None, 16, 16, 16, 1 512         conv3d_50[0][0]                  \n",
      "__________________________________________________________________________________________________\n",
      "conv3d_transpose_8 (Conv3DTrans (None, 32, 32, 32, 6 221248      batch_normalization_48[0][0]     \n",
      "__________________________________________________________________________________________________\n",
      "concatenate_10 (Concatenate)    (None, 32, 32, 32, 1 0           conv3d_transpose_8[0][0]         \n",
      "                                                                 batch_normalization_42[0][0]     \n",
      "__________________________________________________________________________________________________\n",
      "spatial_dropout3d_22 (SpatialDr (None, 32, 32, 32, 1 0           concatenate_10[0][0]             \n",
      "__________________________________________________________________________________________________\n",
      "conv3d_51 (Conv3D)              (None, 32, 32, 32, 6 221248      spatial_dropout3d_22[0][0]       \n",
      "__________________________________________________________________________________________________\n",
      "batch_normalization_49 (BatchNo (None, 32, 32, 32, 6 256         conv3d_51[0][0]                  \n",
      "__________________________________________________________________________________________________\n",
      "conv3d_52 (Conv3D)              (None, 32, 32, 32, 6 110656      batch_normalization_49[0][0]     \n",
      "__________________________________________________________________________________________________\n",
      "batch_normalization_50 (BatchNo (None, 32, 32, 32, 6 256         conv3d_52[0][0]                  \n",
      "__________________________________________________________________________________________________\n",
      "conv3d_transpose_9 (Conv3DTrans (None, 64, 64, 64, 3 55328       batch_normalization_50[0][0]     \n",
      "__________________________________________________________________________________________________\n",
      "concatenate_11 (Concatenate)    (None, 64, 64, 64, 6 0           conv3d_transpose_9[0][0]         \n",
      "                                                                 batch_normalization_40[0][0]     \n",
      "__________________________________________________________________________________________________\n",
      "spatial_dropout3d_23 (SpatialDr (None, 64, 64, 64, 6 0           concatenate_11[0][0]             \n",
      "__________________________________________________________________________________________________\n",
      "conv3d_53 (Conv3D)              (None, 64, 64, 64, 3 55328       spatial_dropout3d_23[0][0]       \n",
      "__________________________________________________________________________________________________\n",
      "batch_normalization_51 (BatchNo (None, 64, 64, 64, 3 128         conv3d_53[0][0]                  \n",
      "__________________________________________________________________________________________________\n",
      "conv3d_54 (Conv3D)              (None, 64, 64, 64, 3 27680       batch_normalization_51[0][0]     \n",
      "__________________________________________________________________________________________________\n",
      "batch_normalization_52 (BatchNo (None, 64, 64, 64, 3 128         conv3d_54[0][0]                  \n",
      "__________________________________________________________________________________________________\n",
      "man1 (Conv3DTranspose)          (None, 128, 128, 128 13840       batch_normalization_52[0][0]     \n",
      "__________________________________________________________________________________________________\n",
      "concatenate_12 (Concatenate)    (None, 128, 128, 128 0           man1[0][0]                       \n",
      "                                                                 batch_normalization_38[0][0]     \n",
      "__________________________________________________________________________________________________\n",
      "spatial_dropout3d_24 (SpatialDr (None, 128, 128, 128 0           concatenate_12[0][0]             \n",
      "__________________________________________________________________________________________________\n",
      "conv3d_55 (Conv3D)              (None, 128, 128, 128 13840       spatial_dropout3d_24[0][0]       \n",
      "__________________________________________________________________________________________________\n",
      "batch_normalization_53 (BatchNo (None, 128, 128, 128 64          conv3d_55[0][0]                  \n",
      "__________________________________________________________________________________________________\n",
      "conv3d_56 (Conv3D)              (None, 128, 128, 128 6928        batch_normalization_53[0][0]     \n",
      "__________________________________________________________________________________________________\n",
      "batch_normalization_54 (BatchNo (None, 128, 128, 128 64          conv3d_56[0][0]                  \n",
      "__________________________________________________________________________________________________\n",
      "conv3d_57 (Conv3D)              (None, 128, 128, 128 17          batch_normalization_54[0][0]     \n",
      "==================================================================================================\n",
      "Total params: 6,477,681\n",
      "Trainable params: 6,474,737\n",
      "Non-trainable params: 2,944\n",
      "__________________________________________________________________________________________________\n"
     ]
    }
   ],
   "source": [
    "\n",
    "from keras import backend \n",
    "def rmse(y_true, y_pred):\n",
    "    return K.sqrt(K.mean(backend.square(y_pred - y_true), axis=-1))\n",
    "\n",
    "input_img = Input((128, 128, 128,1), name='img')\n",
    "model = get_unet(input_img, n_filters=16, dropout=0.25, batchnorm=True)\n",
    "opt=keras.optimizers.Adam(lr=0.0001, beta_1=0.9, beta_2=0.999, decay=0.0, amsgrad=False)\n",
    "#model.compile(optimizer=opt, loss=weighted_dice_coefficient_loss, metrics=['mse', 'mae', 'mape', 'cosine',rmse,weighted_dice_coefficient, dice_coefficient])\n",
    "model.compile(optimizer=opt, loss=\"mse\", metrics=['mse', 'mae', 'mape', 'cosine',weighted_dice_coefficient, dice_coefficient,rmse])\n",
    "model.summary()"
   ]
  },
  {
   "cell_type": "code",
   "execution_count": 85,
   "metadata": {},
   "outputs": [],
   "source": [
    "callbacks = [\n",
    "    EarlyStopping(patience=10, verbose=1),\n",
    "    ReduceLROnPlateau(monitor='val_loss',factor=0.1, patience=5, min_lr=0.00001, verbose=1),\n",
    "    ModelCheckpoint('model-tgs-salt_2.h5', monitor='val_loss',mode='auto',verbose=1, save_best_only=True, save_weights_only=True)\n",
    "]"
   ]
  },
  {
   "cell_type": "code",
   "execution_count": 86,
   "metadata": {},
   "outputs": [
    {
     "name": "stdout",
     "output_type": "stream",
     "text": [
      "Train on 84 samples, validate on 36 samples\n",
      "Epoch 1/100\n",
      "84/84 [==============================] - 55s 657ms/step - loss: 0.2057 - mse: 0.2057 - mae: 0.3592 - mape: 14026.9746 - cosine: 0.0283 - weighted_dice_coefficient: -0.1817 - dice_coefficient: -0.0319 - rmse: 0.3592 - val_loss: 0.6550 - val_mse: 0.6550 - val_mae: 0.7473 - val_mape: 33939.4414 - val_cosine: -0.0837 - val_weighted_dice_coefficient: -0.1288 - val_dice_coefficient: -0.1004 - val_rmse: 0.7473\n",
      "\n",
      "Epoch 00001: val_loss improved from inf to 0.65503, saving model to model-tgs-salt_2.h5\n",
      "Epoch 2/100\n",
      "84/84 [==============================] - 52s 618ms/step - loss: 0.0468 - mse: 0.0468 - mae: 0.1581 - mape: 5888.5625 - cosine: 0.0954 - weighted_dice_coefficient: -0.0466 - dice_coefficient: -0.0417 - rmse: 0.1581 - val_loss: 0.1720 - val_mse: 0.1720 - val_mae: 0.3404 - val_mape: 16432.9688 - val_cosine: -0.0226 - val_weighted_dice_coefficient: -0.0836 - val_dice_coefficient: -0.1454 - val_rmse: 0.3404\n",
      "\n",
      "Epoch 00002: val_loss improved from 0.65503 to 0.17202, saving model to model-tgs-salt_2.h5\n",
      "Epoch 3/100\n",
      "84/84 [==============================] - 52s 619ms/step - loss: 0.0221 - mse: 0.0221 - mae: 0.1094 - mape: 4092.0986 - cosine: 0.1838 - weighted_dice_coefficient: -0.0511 - dice_coefficient: -0.0512 - rmse: 0.1094 - val_loss: 0.0216 - val_mse: 0.0216 - val_mae: 0.1128 - val_mape: 4973.0112 - val_cosine: 0.1905 - val_weighted_dice_coefficient: -0.0412 - val_dice_coefficient: -0.0428 - val_rmse: 0.1128\n",
      "\n",
      "Epoch 00003: val_loss improved from 0.17202 to 0.02157, saving model to model-tgs-salt_2.h5\n",
      "Epoch 4/100\n",
      "84/84 [==============================] - 52s 618ms/step - loss: 0.0140 - mse: 0.0140 - mae: 0.0865 - mape: 3287.7820 - cosine: 0.2425 - weighted_dice_coefficient: -0.0345 - dice_coefficient: -0.0524 - rmse: 0.0865 - val_loss: 0.0087 - val_mse: 0.0087 - val_mae: 0.0720 - val_mape: 2687.6929 - val_cosine: 0.2017 - val_weighted_dice_coefficient: -0.0401 - val_dice_coefficient: -0.0473 - val_rmse: 0.0720\n",
      "\n",
      "Epoch 00004: val_loss improved from 0.02157 to 0.00866, saving model to model-tgs-salt_2.h5\n",
      "Epoch 5/100\n",
      "84/84 [==============================] - 52s 619ms/step - loss: 0.0099 - mse: 0.0099 - mae: 0.0734 - mape: 2820.8157 - cosine: 0.2773 - weighted_dice_coefficient: -0.0551 - dice_coefficient: -0.0505 - rmse: 0.0734 - val_loss: 0.0051 - val_mse: 0.0051 - val_mae: 0.0554 - val_mape: 1842.9819 - val_cosine: 0.2681 - val_weighted_dice_coefficient: -0.0516 - val_dice_coefficient: -0.0519 - val_rmse: 0.0554\n",
      "\n",
      "Epoch 00005: val_loss improved from 0.00866 to 0.00509, saving model to model-tgs-salt_2.h5\n",
      "Epoch 6/100\n",
      "84/84 [==============================] - 52s 619ms/step - loss: 0.0075 - mse: 0.0075 - mae: 0.0637 - mape: 2435.6758 - cosine: 0.3218 - weighted_dice_coefficient: -0.0501 - dice_coefficient: -0.0528 - rmse: 0.0637 - val_loss: 0.0032 - val_mse: 0.0032 - val_mae: 0.0439 - val_mape: 1402.6598 - val_cosine: 0.3799 - val_weighted_dice_coefficient: -0.0525 - val_dice_coefficient: -0.0521 - val_rmse: 0.0439\n",
      "\n",
      "Epoch 00006: val_loss improved from 0.00509 to 0.00324, saving model to model-tgs-salt_2.h5\n",
      "Epoch 7/100\n",
      "84/84 [==============================] - 52s 620ms/step - loss: 0.0064 - mse: 0.0064 - mae: 0.0590 - mape: 2262.0303 - cosine: 0.3491 - weighted_dice_coefficient: 0.0042 - dice_coefficient: -0.0522 - rmse: 0.0590 - val_loss: 0.0029 - val_mse: 0.0029 - val_mae: 0.0420 - val_mape: 1344.8348 - val_cosine: 0.4118 - val_weighted_dice_coefficient: -0.0565 - val_dice_coefficient: -0.0567 - val_rmse: 0.0420\n",
      "\n",
      "Epoch 00007: val_loss improved from 0.00324 to 0.00293, saving model to model-tgs-salt_2.h5\n",
      "Epoch 8/100\n",
      "84/84 [==============================] - 52s 623ms/step - loss: 0.0048 - mse: 0.0048 - mae: 0.0516 - mape: 2007.2260 - cosine: 0.3920 - weighted_dice_coefficient: -0.0551 - dice_coefficient: -0.0523 - rmse: 0.0516 - val_loss: 0.0025 - val_mse: 0.0025 - val_mae: 0.0388 - val_mape: 1290.5297 - val_cosine: 0.4624 - val_weighted_dice_coefficient: -0.0544 - val_dice_coefficient: -0.0565 - val_rmse: 0.0388\n",
      "\n",
      "Epoch 00008: val_loss improved from 0.00293 to 0.00251, saving model to model-tgs-salt_2.h5\n",
      "Epoch 9/100\n",
      "84/84 [==============================] - 52s 623ms/step - loss: 0.0043 - mse: 0.0043 - mae: 0.0493 - mape: 1934.6300 - cosine: 0.4138 - weighted_dice_coefficient: -0.0463 - dice_coefficient: -0.0540 - rmse: 0.0493 - val_loss: 0.0020 - val_mse: 0.0020 - val_mae: 0.0350 - val_mape: 1444.9556 - val_cosine: 0.5446 - val_weighted_dice_coefficient: -0.0521 - val_dice_coefficient: -0.0541 - val_rmse: 0.0350\n",
      "\n",
      "Epoch 00009: val_loss improved from 0.00251 to 0.00202, saving model to model-tgs-salt_2.h5\n",
      "Epoch 10/100\n",
      "84/84 [==============================] - 52s 623ms/step - loss: 0.0039 - mse: 0.0039 - mae: 0.0467 - mape: 1814.3893 - cosine: 0.4224 - weighted_dice_coefficient: -0.0514 - dice_coefficient: -0.0544 - rmse: 0.0467 - val_loss: 0.0017 - val_mse: 0.0017 - val_mae: 0.0322 - val_mape: 1215.9595 - val_cosine: 0.5563 - val_weighted_dice_coefficient: -0.0551 - val_dice_coefficient: -0.0562 - val_rmse: 0.0322\n",
      "\n",
      "Epoch 00010: val_loss improved from 0.00202 to 0.00172, saving model to model-tgs-salt_2.h5\n",
      "Epoch 11/100\n",
      "84/84 [==============================] - 52s 622ms/step - loss: 0.0034 - mse: 0.0034 - mae: 0.0438 - mape: 1681.9152 - cosine: 0.4552 - weighted_dice_coefficient: -0.0552 - dice_coefficient: -0.0555 - rmse: 0.0438 - val_loss: 0.0015 - val_mse: 0.0015 - val_mae: 0.0306 - val_mape: 1217.5129 - val_cosine: 0.5742 - val_weighted_dice_coefficient: -0.0552 - val_dice_coefficient: -0.0560 - val_rmse: 0.0306\n",
      "\n",
      "Epoch 00011: val_loss improved from 0.00172 to 0.00153, saving model to model-tgs-salt_2.h5\n",
      "Epoch 12/100\n",
      "84/84 [==============================] - 52s 623ms/step - loss: 0.0031 - mse: 0.0031 - mae: 0.0419 - mape: 1607.1041 - cosine: 0.4646 - weighted_dice_coefficient: -0.0572 - dice_coefficient: -0.0562 - rmse: 0.0419 - val_loss: 0.0017 - val_mse: 0.0017 - val_mae: 0.0316 - val_mape: 1150.6344 - val_cosine: 0.5491 - val_weighted_dice_coefficient: -0.0576 - val_dice_coefficient: -0.0586 - val_rmse: 0.0316\n",
      "\n",
      "Epoch 00012: val_loss did not improve from 0.00153\n",
      "Epoch 13/100\n",
      "84/84 [==============================] - 52s 623ms/step - loss: 0.0028 - mse: 0.0028 - mae: 0.0402 - mape: 1572.0916 - cosine: 0.4794 - weighted_dice_coefficient: -0.0563 - dice_coefficient: -0.0568 - rmse: 0.0402 - val_loss: 0.0014 - val_mse: 0.0014 - val_mae: 0.0295 - val_mape: 1143.7585 - val_cosine: 0.5774 - val_weighted_dice_coefficient: -0.0556 - val_dice_coefficient: -0.0563 - val_rmse: 0.0295\n",
      "\n",
      "Epoch 00013: val_loss improved from 0.00153 to 0.00143, saving model to model-tgs-salt_2.h5\n",
      "Epoch 14/100\n",
      "84/84 [==============================] - 52s 622ms/step - loss: 0.0025 - mse: 0.0025 - mae: 0.0380 - mape: 1494.2307 - cosine: 0.4981 - weighted_dice_coefficient: -0.0559 - dice_coefficient: -0.0557 - rmse: 0.0380 - val_loss: 0.0014 - val_mse: 0.0014 - val_mae: 0.0291 - val_mape: 1281.7598 - val_cosine: 0.5911 - val_weighted_dice_coefficient: -0.0540 - val_dice_coefficient: -0.0545 - val_rmse: 0.0291\n",
      "\n",
      "Epoch 00014: val_loss improved from 0.00143 to 0.00138, saving model to model-tgs-salt_2.h5\n",
      "Epoch 15/100\n",
      "84/84 [==============================] - 52s 624ms/step - loss: 0.0022 - mse: 0.0022 - mae: 0.0355 - mape: 1397.5743 - cosine: 0.5201 - weighted_dice_coefficient: -0.0528 - dice_coefficient: -0.0575 - rmse: 0.0355 - val_loss: 0.0015 - val_mse: 0.0015 - val_mae: 0.0304 - val_mape: 1026.0718 - val_cosine: 0.5638 - val_weighted_dice_coefficient: -0.0630 - val_dice_coefficient: -0.0639 - val_rmse: 0.0304\n",
      "\n",
      "Epoch 00015: val_loss did not improve from 0.00138\n",
      "Epoch 16/100\n",
      "84/84 [==============================] - 52s 623ms/step - loss: 0.0023 - mse: 0.0023 - mae: 0.0359 - mape: 1405.1484 - cosine: 0.5180 - weighted_dice_coefficient: -0.0554 - dice_coefficient: -0.0566 - rmse: 0.0359 - val_loss: 0.0013 - val_mse: 0.0013 - val_mae: 0.0284 - val_mape: 1041.2777 - val_cosine: 0.5905 - val_weighted_dice_coefficient: -0.0607 - val_dice_coefficient: -0.0615 - val_rmse: 0.0284\n",
      "\n",
      "Epoch 00016: val_loss improved from 0.00138 to 0.00133, saving model to model-tgs-salt_2.h5\n",
      "Epoch 17/100\n"
     ]
    },
    {
     "name": "stdout",
     "output_type": "stream",
     "text": [
      "84/84 [==============================] - 52s 623ms/step - loss: 0.0020 - mse: 0.0020 - mae: 0.0343 - mape: 1337.9592 - cosine: 0.5323 - weighted_dice_coefficient: -0.0583 - dice_coefficient: -0.0584 - rmse: 0.0343 - val_loss: 0.0014 - val_mse: 0.0014 - val_mae: 0.0286 - val_mape: 940.0525 - val_cosine: 0.5661 - val_weighted_dice_coefficient: -0.0621 - val_dice_coefficient: -0.0629 - val_rmse: 0.0286\n",
      "\n",
      "Epoch 00017: val_loss did not improve from 0.00133\n",
      "Epoch 18/100\n",
      "84/84 [==============================] - 52s 623ms/step - loss: 0.0019 - mse: 0.0019 - mae: 0.0330 - mape: 1240.5939 - cosine: 0.5423 - weighted_dice_coefficient: -0.0659 - dice_coefficient: -0.0589 - rmse: 0.0330 - val_loss: 0.0013 - val_mse: 0.0013 - val_mae: 0.0285 - val_mape: 907.6679 - val_cosine: 0.5737 - val_weighted_dice_coefficient: -0.0624 - val_dice_coefficient: -0.0632 - val_rmse: 0.0285\n",
      "\n",
      "Epoch 00018: val_loss did not improve from 0.00133\n",
      "Epoch 19/100\n",
      "84/84 [==============================] - 52s 623ms/step - loss: 0.0018 - mse: 0.0018 - mae: 0.0325 - mape: 1282.7212 - cosine: 0.5518 - weighted_dice_coefficient: -0.0581 - dice_coefficient: -0.0589 - rmse: 0.0325 - val_loss: 0.0014 - val_mse: 0.0014 - val_mae: 0.0286 - val_mape: 870.3197 - val_cosine: 0.5757 - val_weighted_dice_coefficient: -0.0631 - val_dice_coefficient: -0.0640 - val_rmse: 0.0286\n",
      "\n",
      "Epoch 00019: val_loss did not improve from 0.00133\n",
      "Epoch 20/100\n",
      "84/84 [==============================] - 52s 623ms/step - loss: 0.0016 - mse: 0.0016 - mae: 0.0310 - mape: 1201.8662 - cosine: 0.5623 - weighted_dice_coefficient: -0.0573 - dice_coefficient: -0.0591 - rmse: 0.0310 - val_loss: 0.0013 - val_mse: 0.0013 - val_mae: 0.0284 - val_mape: 872.5530 - val_cosine: 0.5682 - val_weighted_dice_coefficient: -0.0640 - val_dice_coefficient: -0.0647 - val_rmse: 0.0284\n",
      "\n",
      "Epoch 00020: val_loss did not improve from 0.00133\n",
      "Epoch 21/100\n",
      "84/84 [==============================] - 52s 623ms/step - loss: 0.0016 - mse: 0.0016 - mae: 0.0308 - mape: 1198.0670 - cosine: 0.5648 - weighted_dice_coefficient: -0.0559 - dice_coefficient: -0.0595 - rmse: 0.0308 - val_loss: 0.0014 - val_mse: 0.0014 - val_mae: 0.0288 - val_mape: 936.9017 - val_cosine: 0.5707 - val_weighted_dice_coefficient: -0.0645 - val_dice_coefficient: -0.0654 - val_rmse: 0.0288\n",
      "\n",
      "Epoch 00021: ReduceLROnPlateau reducing learning rate to 1e-05.\n",
      "\n",
      "Epoch 00021: val_loss did not improve from 0.00133\n",
      "Epoch 22/100\n",
      "84/84 [==============================] - 52s 624ms/step - loss: 0.0015 - mse: 0.0015 - mae: 0.0300 - mape: 1142.3037 - cosine: 0.5645 - weighted_dice_coefficient: -0.0595 - dice_coefficient: -0.0594 - rmse: 0.0300 - val_loss: 0.0011 - val_mse: 0.0011 - val_mae: 0.0265 - val_mape: 880.9887 - val_cosine: 0.5979 - val_weighted_dice_coefficient: -0.0624 - val_dice_coefficient: -0.0631 - val_rmse: 0.0265\n",
      "\n",
      "Epoch 00022: val_loss improved from 0.00133 to 0.00115, saving model to model-tgs-salt_2.h5\n",
      "Epoch 23/100\n",
      "84/84 [==============================] - 52s 623ms/step - loss: 0.0015 - mse: 0.0015 - mae: 0.0298 - mape: 1146.9435 - cosine: 0.5715 - weighted_dice_coefficient: -0.0588 - dice_coefficient: -0.0592 - rmse: 0.0298 - val_loss: 0.0010 - val_mse: 0.0010 - val_mae: 0.0254 - val_mape: 921.6992 - val_cosine: 0.6081 - val_weighted_dice_coefficient: -0.0600 - val_dice_coefficient: -0.0606 - val_rmse: 0.0254\n",
      "\n",
      "Epoch 00023: val_loss improved from 0.00115 to 0.00102, saving model to model-tgs-salt_2.h5\n",
      "Epoch 24/100\n",
      "84/84 [==============================] - 52s 623ms/step - loss: 0.0015 - mse: 0.0015 - mae: 0.0296 - mape: 1141.1918 - cosine: 0.5721 - weighted_dice_coefficient: -0.0587 - dice_coefficient: -0.0595 - rmse: 0.0296 - val_loss: 9.9004e-04 - val_mse: 9.9004e-04 - val_mae: 0.0251 - val_mape: 939.0112 - val_cosine: 0.6080 - val_weighted_dice_coefficient: -0.0597 - val_dice_coefficient: -0.0603 - val_rmse: 0.0251\n",
      "\n",
      "Epoch 00024: val_loss improved from 0.00102 to 0.00099, saving model to model-tgs-salt_2.h5\n",
      "Epoch 25/100\n",
      "84/84 [==============================] - 52s 624ms/step - loss: 0.0015 - mse: 0.0015 - mae: 0.0301 - mape: 1141.1219 - cosine: 0.5689 - weighted_dice_coefficient: -0.0586 - dice_coefficient: -0.0592 - rmse: 0.0301 - val_loss: 9.8163e-04 - val_mse: 9.8163e-04 - val_mae: 0.0250 - val_mape: 935.8591 - val_cosine: 0.6081 - val_weighted_dice_coefficient: -0.0595 - val_dice_coefficient: -0.0600 - val_rmse: 0.0250\n",
      "\n",
      "Epoch 00025: val_loss improved from 0.00099 to 0.00098, saving model to model-tgs-salt_2.h5\n",
      "Epoch 26/100\n",
      "84/84 [==============================] - 52s 623ms/step - loss: 0.0015 - mse: 0.0015 - mae: 0.0293 - mape: 1121.1562 - cosine: 0.5753 - weighted_dice_coefficient: -0.0592 - dice_coefficient: -0.0600 - rmse: 0.0293 - val_loss: 9.6615e-04 - val_mse: 9.6615e-04 - val_mae: 0.0249 - val_mape: 950.5157 - val_cosine: 0.6077 - val_weighted_dice_coefficient: -0.0593 - val_dice_coefficient: -0.0598 - val_rmse: 0.0249\n",
      "\n",
      "Epoch 00026: val_loss improved from 0.00098 to 0.00097, saving model to model-tgs-salt_2.h5\n",
      "Epoch 27/100\n",
      "84/84 [==============================] - 52s 623ms/step - loss: 0.0014 - mse: 0.0014 - mae: 0.0292 - mape: 1095.6158 - cosine: 0.5736 - weighted_dice_coefficient: -0.0595 - dice_coefficient: -0.0602 - rmse: 0.0292 - val_loss: 9.6568e-04 - val_mse: 9.6568e-04 - val_mae: 0.0250 - val_mape: 1006.4471 - val_cosine: 0.6042 - val_weighted_dice_coefficient: -0.0584 - val_dice_coefficient: -0.0589 - val_rmse: 0.0250\n",
      "\n",
      "Epoch 00027: val_loss improved from 0.00097 to 0.00097, saving model to model-tgs-salt_2.h5\n",
      "Epoch 28/100\n",
      "84/84 [==============================] - 52s 624ms/step - loss: 0.0015 - mse: 0.0015 - mae: 0.0301 - mape: 1165.9697 - cosine: 0.5668 - weighted_dice_coefficient: -0.0587 - dice_coefficient: -0.0594 - rmse: 0.0301 - val_loss: 9.6097e-04 - val_mse: 9.6097e-04 - val_mae: 0.0249 - val_mape: 987.2384 - val_cosine: 0.6055 - val_weighted_dice_coefficient: -0.0589 - val_dice_coefficient: -0.0593 - val_rmse: 0.0249\n",
      "\n",
      "Epoch 00028: val_loss improved from 0.00097 to 0.00096, saving model to model-tgs-salt_2.h5\n",
      "Epoch 29/100\n",
      "84/84 [==============================] - 52s 623ms/step - loss: 0.0015 - mse: 0.0015 - mae: 0.0292 - mape: 1118.6521 - cosine: 0.5745 - weighted_dice_coefficient: -0.0592 - dice_coefficient: -0.0606 - rmse: 0.0292 - val_loss: 9.6085e-04 - val_mse: 9.6085e-04 - val_mae: 0.0249 - val_mape: 1002.1528 - val_cosine: 0.6043 - val_weighted_dice_coefficient: -0.0585 - val_dice_coefficient: -0.0589 - val_rmse: 0.0249\n",
      "\n",
      "Epoch 00029: val_loss improved from 0.00096 to 0.00096, saving model to model-tgs-salt_2.h5\n",
      "Epoch 30/100\n",
      "84/84 [==============================] - 52s 623ms/step - loss: 0.0014 - mse: 0.0014 - mae: 0.0286 - mape: 1097.5771 - cosine: 0.5805 - weighted_dice_coefficient: -0.0596 - dice_coefficient: -0.0603 - rmse: 0.0286 - val_loss: 9.5317e-04 - val_mse: 9.5317e-04 - val_mae: 0.0248 - val_mape: 1010.6255 - val_cosine: 0.6042 - val_weighted_dice_coefficient: -0.0584 - val_dice_coefficient: -0.0588 - val_rmse: 0.0248\n",
      "\n",
      "Epoch 00030: val_loss improved from 0.00096 to 0.00095, saving model to model-tgs-salt_2.h5\n",
      "Epoch 31/100\n",
      "84/84 [==============================] - 52s 623ms/step - loss: 0.0014 - mse: 0.0014 - mae: 0.0291 - mape: 1106.2386 - cosine: 0.5789 - weighted_dice_coefficient: -0.0590 - dice_coefficient: -0.0600 - rmse: 0.0291 - val_loss: 9.6113e-04 - val_mse: 9.6113e-04 - val_mae: 0.0249 - val_mape: 1022.2139 - val_cosine: 0.6035 - val_weighted_dice_coefficient: -0.0579 - val_dice_coefficient: -0.0583 - val_rmse: 0.0249\n",
      "\n",
      "Epoch 00031: val_loss did not improve from 0.00095\n",
      "Epoch 32/100\n",
      "84/84 [==============================] - 52s 624ms/step - loss: 0.0014 - mse: 0.0014 - mae: 0.0291 - mape: 1109.9832 - cosine: 0.5734 - weighted_dice_coefficient: -0.0590 - dice_coefficient: -0.0606 - rmse: 0.0291 - val_loss: 9.4844e-04 - val_mse: 9.4844e-04 - val_mae: 0.0248 - val_mape: 1014.1420 - val_cosine: 0.6043 - val_weighted_dice_coefficient: -0.0583 - val_dice_coefficient: -0.0587 - val_rmse: 0.0248\n",
      "\n",
      "Epoch 00032: val_loss improved from 0.00095 to 0.00095, saving model to model-tgs-salt_2.h5\n",
      "Epoch 33/100\n"
     ]
    },
    {
     "name": "stdout",
     "output_type": "stream",
     "text": [
      "84/84 [==============================] - 52s 623ms/step - loss: 0.0014 - mse: 0.0014 - mae: 0.0289 - mape: 1095.0750 - cosine: 0.5774 - weighted_dice_coefficient: -0.0596 - dice_coefficient: -0.0603 - rmse: 0.0289 - val_loss: 9.4746e-04 - val_mse: 9.4746e-04 - val_mae: 0.0247 - val_mape: 1023.6290 - val_cosine: 0.6037 - val_weighted_dice_coefficient: -0.0582 - val_dice_coefficient: -0.0586 - val_rmse: 0.0247\n",
      "\n",
      "Epoch 00033: val_loss improved from 0.00095 to 0.00095, saving model to model-tgs-salt_2.h5\n",
      "Epoch 34/100\n",
      "84/84 [==============================] - 52s 623ms/step - loss: 0.0014 - mse: 0.0014 - mae: 0.0284 - mape: 1084.2715 - cosine: 0.5808 - weighted_dice_coefficient: -0.0604 - dice_coefficient: -0.0610 - rmse: 0.0284 - val_loss: 9.2874e-04 - val_mse: 9.2874e-04 - val_mae: 0.0245 - val_mape: 980.6707 - val_cosine: 0.6061 - val_weighted_dice_coefficient: -0.0593 - val_dice_coefficient: -0.0597 - val_rmse: 0.0245\n",
      "\n",
      "Epoch 00034: val_loss improved from 0.00095 to 0.00093, saving model to model-tgs-salt_2.h5\n",
      "Epoch 35/100\n",
      "84/84 [==============================] - 52s 623ms/step - loss: 0.0014 - mse: 0.0014 - mae: 0.0290 - mape: 1117.8861 - cosine: 0.5764 - weighted_dice_coefficient: -0.0605 - dice_coefficient: -0.0604 - rmse: 0.0290 - val_loss: 9.2450e-04 - val_mse: 9.2450e-04 - val_mae: 0.0244 - val_mape: 925.7164 - val_cosine: 0.6101 - val_weighted_dice_coefficient: -0.0599 - val_dice_coefficient: -0.0603 - val_rmse: 0.0244\n",
      "\n",
      "Epoch 00035: val_loss improved from 0.00093 to 0.00092, saving model to model-tgs-salt_2.h5\n",
      "Epoch 36/100\n",
      "84/84 [==============================] - 52s 623ms/step - loss: 0.0014 - mse: 0.0014 - mae: 0.0288 - mape: 1102.3502 - cosine: 0.5787 - weighted_dice_coefficient: -0.0603 - dice_coefficient: -0.0608 - rmse: 0.0288 - val_loss: 9.3101e-04 - val_mse: 9.3101e-04 - val_mae: 0.0246 - val_mape: 965.2823 - val_cosine: 0.6063 - val_weighted_dice_coefficient: -0.0594 - val_dice_coefficient: -0.0598 - val_rmse: 0.0246\n",
      "\n",
      "Epoch 00036: val_loss did not improve from 0.00092\n",
      "Epoch 37/100\n",
      "84/84 [==============================] - 52s 623ms/step - loss: 0.0013 - mse: 0.0013 - mae: 0.0280 - mape: 1060.6370 - cosine: 0.5841 - weighted_dice_coefficient: -0.0595 - dice_coefficient: -0.0606 - rmse: 0.0280 - val_loss: 9.2551e-04 - val_mse: 9.2551e-04 - val_mae: 0.0245 - val_mape: 947.8386 - val_cosine: 0.6080 - val_weighted_dice_coefficient: -0.0596 - val_dice_coefficient: -0.0601 - val_rmse: 0.0245\n",
      "\n",
      "Epoch 00037: val_loss did not improve from 0.00092\n",
      "Epoch 38/100\n",
      "84/84 [==============================] - 52s 624ms/step - loss: 0.0014 - mse: 0.0014 - mae: 0.0286 - mape: 1110.0948 - cosine: 0.5813 - weighted_dice_coefficient: -0.0598 - dice_coefficient: -0.0605 - rmse: 0.0286 - val_loss: 9.1569e-04 - val_mse: 9.1569e-04 - val_mae: 0.0244 - val_mape: 944.0191 - val_cosine: 0.6092 - val_weighted_dice_coefficient: -0.0599 - val_dice_coefficient: -0.0604 - val_rmse: 0.0244\n",
      "\n",
      "Epoch 00038: val_loss improved from 0.00092 to 0.00092, saving model to model-tgs-salt_2.h5\n",
      "Epoch 39/100\n",
      "84/84 [==============================] - 52s 623ms/step - loss: 0.0013 - mse: 0.0013 - mae: 0.0282 - mape: 1076.8260 - cosine: 0.5871 - weighted_dice_coefficient: -0.0606 - dice_coefficient: -0.0611 - rmse: 0.0282 - val_loss: 9.0991e-04 - val_mse: 9.0991e-04 - val_mae: 0.0243 - val_mape: 962.7615 - val_cosine: 0.6070 - val_weighted_dice_coefficient: -0.0595 - val_dice_coefficient: -0.0599 - val_rmse: 0.0243\n",
      "\n",
      "Epoch 00039: val_loss improved from 0.00092 to 0.00091, saving model to model-tgs-salt_2.h5\n",
      "Epoch 40/100\n",
      "84/84 [==============================] - 52s 623ms/step - loss: 0.0014 - mse: 0.0014 - mae: 0.0286 - mape: 1089.0569 - cosine: 0.5799 - weighted_dice_coefficient: -0.0591 - dice_coefficient: -0.0601 - rmse: 0.0286 - val_loss: 9.0402e-04 - val_mse: 9.0402e-04 - val_mae: 0.0242 - val_mape: 960.2722 - val_cosine: 0.6072 - val_weighted_dice_coefficient: -0.0594 - val_dice_coefficient: -0.0598 - val_rmse: 0.0242\n",
      "\n",
      "Epoch 00040: val_loss improved from 0.00091 to 0.00090, saving model to model-tgs-salt_2.h5\n",
      "Epoch 41/100\n",
      "84/84 [==============================] - 52s 622ms/step - loss: 0.0013 - mse: 0.0013 - mae: 0.0283 - mape: 1099.9967 - cosine: 0.5854 - weighted_dice_coefficient: -0.0401 - dice_coefficient: -0.0603 - rmse: 0.0283 - val_loss: 8.9480e-04 - val_mse: 8.9480e-04 - val_mae: 0.0241 - val_mape: 962.2333 - val_cosine: 0.6065 - val_weighted_dice_coefficient: -0.0598 - val_dice_coefficient: -0.0602 - val_rmse: 0.0241\n",
      "\n",
      "Epoch 00041: val_loss improved from 0.00090 to 0.00089, saving model to model-tgs-salt_2.h5\n",
      "Epoch 42/100\n",
      "84/84 [==============================] - 52s 623ms/step - loss: 0.0013 - mse: 0.0013 - mae: 0.0278 - mape: 1046.1986 - cosine: 0.5906 - weighted_dice_coefficient: -0.0607 - dice_coefficient: -0.0614 - rmse: 0.0278 - val_loss: 9.0049e-04 - val_mse: 9.0049e-04 - val_mae: 0.0242 - val_mape: 975.6534 - val_cosine: 0.6061 - val_weighted_dice_coefficient: -0.0595 - val_dice_coefficient: -0.0599 - val_rmse: 0.0242\n",
      "\n",
      "Epoch 00042: val_loss did not improve from 0.00089\n",
      "Epoch 43/100\n",
      "84/84 [==============================] - 52s 622ms/step - loss: 0.0013 - mse: 0.0013 - mae: 0.0281 - mape: 1078.1022 - cosine: 0.5818 - weighted_dice_coefficient: -0.0630 - dice_coefficient: -0.0610 - rmse: 0.0281 - val_loss: 8.9435e-04 - val_mse: 8.9435e-04 - val_mae: 0.0240 - val_mape: 924.1381 - val_cosine: 0.6101 - val_weighted_dice_coefficient: -0.0603 - val_dice_coefficient: -0.0607 - val_rmse: 0.0240\n",
      "\n",
      "Epoch 00043: val_loss improved from 0.00089 to 0.00089, saving model to model-tgs-salt_2.h5\n",
      "Epoch 44/100\n",
      "84/84 [==============================] - 52s 624ms/step - loss: 0.0014 - mse: 0.0014 - mae: 0.0284 - mape: 1073.5131 - cosine: 0.5850 - weighted_dice_coefficient: -0.0603 - dice_coefficient: -0.0613 - rmse: 0.0284 - val_loss: 8.9310e-04 - val_mse: 8.9310e-04 - val_mae: 0.0241 - val_mape: 953.3700 - val_cosine: 0.6072 - val_weighted_dice_coefficient: -0.0598 - val_dice_coefficient: -0.0603 - val_rmse: 0.0241\n",
      "\n",
      "Epoch 00044: val_loss improved from 0.00089 to 0.00089, saving model to model-tgs-salt_2.h5\n",
      "Epoch 45/100\n",
      "84/84 [==============================] - 52s 623ms/step - loss: 0.0014 - mse: 0.0014 - mae: 0.0286 - mape: 1079.3967 - cosine: 0.5805 - weighted_dice_coefficient: -0.0603 - dice_coefficient: -0.0612 - rmse: 0.0286 - val_loss: 9.0734e-04 - val_mse: 9.0734e-04 - val_mae: 0.0243 - val_mape: 950.0056 - val_cosine: 0.6067 - val_weighted_dice_coefficient: -0.0594 - val_dice_coefficient: -0.0598 - val_rmse: 0.0243\n",
      "\n",
      "Epoch 00045: val_loss did not improve from 0.00089\n",
      "Epoch 46/100\n",
      "84/84 [==============================] - 52s 623ms/step - loss: 0.0013 - mse: 0.0013 - mae: 0.0276 - mape: 1054.1299 - cosine: 0.5909 - weighted_dice_coefficient: -0.0608 - dice_coefficient: -0.0613 - rmse: 0.0276 - val_loss: 8.9329e-04 - val_mse: 8.9329e-04 - val_mae: 0.0240 - val_mape: 913.0188 - val_cosine: 0.6126 - val_weighted_dice_coefficient: -0.0604 - val_dice_coefficient: -0.0608 - val_rmse: 0.0240\n",
      "\n",
      "Epoch 00046: val_loss did not improve from 0.00089\n",
      "Epoch 47/100\n",
      "84/84 [==============================] - 52s 624ms/step - loss: 0.0013 - mse: 0.0013 - mae: 0.0281 - mape: 1060.0695 - cosine: 0.5867 - weighted_dice_coefficient: -0.0606 - dice_coefficient: -0.0614 - rmse: 0.0281 - val_loss: 8.8542e-04 - val_mse: 8.8542e-04 - val_mae: 0.0240 - val_mape: 942.0699 - val_cosine: 0.6083 - val_weighted_dice_coefficient: -0.0601 - val_dice_coefficient: -0.0605 - val_rmse: 0.0240\n",
      "\n",
      "Epoch 00047: val_loss improved from 0.00089 to 0.00089, saving model to model-tgs-salt_2.h5\n",
      "Epoch 48/100\n",
      "84/84 [==============================] - 52s 622ms/step - loss: 0.0013 - mse: 0.0013 - mae: 0.0275 - mape: 1048.3601 - cosine: 0.5916 - weighted_dice_coefficient: -0.0601 - dice_coefficient: -0.0609 - rmse: 0.0275 - val_loss: 8.7590e-04 - val_mse: 8.7590e-04 - val_mae: 0.0238 - val_mape: 909.5961 - val_cosine: 0.6129 - val_weighted_dice_coefficient: -0.0608 - val_dice_coefficient: -0.0613 - val_rmse: 0.0238\n",
      "\n",
      "Epoch 00048: val_loss improved from 0.00089 to 0.00088, saving model to model-tgs-salt_2.h5\n",
      "Epoch 49/100\n"
     ]
    },
    {
     "name": "stdout",
     "output_type": "stream",
     "text": [
      "84/84 [==============================] - 52s 623ms/step - loss: 0.0013 - mse: 0.0013 - mae: 0.0280 - mape: 1086.4076 - cosine: 0.5842 - weighted_dice_coefficient: -0.0603 - dice_coefficient: -0.0610 - rmse: 0.0280 - val_loss: 8.7618e-04 - val_mse: 8.7618e-04 - val_mae: 0.0239 - val_mape: 932.6187 - val_cosine: 0.6098 - val_weighted_dice_coefficient: -0.0606 - val_dice_coefficient: -0.0611 - val_rmse: 0.0239\n",
      "\n",
      "Epoch 00049: val_loss did not improve from 0.00088\n",
      "Epoch 50/100\n",
      "84/84 [==============================] - 52s 623ms/step - loss: 0.0013 - mse: 0.0013 - mae: 0.0275 - mape: 1052.4026 - cosine: 0.5902 - weighted_dice_coefficient: -0.0605 - dice_coefficient: -0.0611 - rmse: 0.0275 - val_loss: 8.7935e-04 - val_mse: 8.7935e-04 - val_mae: 0.0239 - val_mape: 960.0368 - val_cosine: 0.6066 - val_weighted_dice_coefficient: -0.0595 - val_dice_coefficient: -0.0599 - val_rmse: 0.0239\n",
      "\n",
      "Epoch 00050: val_loss did not improve from 0.00088\n",
      "Epoch 51/100\n",
      "84/84 [==============================] - 52s 623ms/step - loss: 0.0013 - mse: 0.0013 - mae: 0.0276 - mape: 1036.6519 - cosine: 0.5902 - weighted_dice_coefficient: -0.0605 - dice_coefficient: -0.0612 - rmse: 0.0276 - val_loss: 8.8189e-04 - val_mse: 8.8189e-04 - val_mae: 0.0240 - val_mape: 961.1494 - val_cosine: 0.6069 - val_weighted_dice_coefficient: -0.0597 - val_dice_coefficient: -0.0601 - val_rmse: 0.0240\n",
      "\n",
      "Epoch 00051: val_loss did not improve from 0.00088\n",
      "Epoch 52/100\n",
      "84/84 [==============================] - 52s 623ms/step - loss: 0.0012 - mse: 0.0012 - mae: 0.0271 - mape: 1036.3312 - cosine: 0.5901 - weighted_dice_coefficient: -0.0603 - dice_coefficient: -0.0611 - rmse: 0.0271 - val_loss: 8.8260e-04 - val_mse: 8.8260e-04 - val_mae: 0.0240 - val_mape: 969.8806 - val_cosine: 0.6064 - val_weighted_dice_coefficient: -0.0593 - val_dice_coefficient: -0.0597 - val_rmse: 0.0240\n",
      "\n",
      "Epoch 00052: val_loss did not improve from 0.00088\n",
      "Epoch 53/100\n",
      "84/84 [==============================] - 52s 623ms/step - loss: 0.0013 - mse: 0.0013 - mae: 0.0278 - mape: 1068.5308 - cosine: 0.5902 - weighted_dice_coefficient: -0.0602 - dice_coefficient: -0.0608 - rmse: 0.0278 - val_loss: 8.7506e-04 - val_mse: 8.7506e-04 - val_mae: 0.0239 - val_mape: 946.8414 - val_cosine: 0.6075 - val_weighted_dice_coefficient: -0.0597 - val_dice_coefficient: -0.0601 - val_rmse: 0.0239\n",
      "\n",
      "Epoch 00053: val_loss improved from 0.00088 to 0.00088, saving model to model-tgs-salt_2.h5\n",
      "Epoch 54/100\n",
      "84/84 [==============================] - 52s 624ms/step - loss: 0.0013 - mse: 0.0013 - mae: 0.0278 - mape: 1064.5601 - cosine: 0.5864 - weighted_dice_coefficient: -0.0602 - dice_coefficient: -0.0610 - rmse: 0.0278 - val_loss: 8.6136e-04 - val_mse: 8.6136e-04 - val_mae: 0.0236 - val_mape: 886.6507 - val_cosine: 0.6145 - val_weighted_dice_coefficient: -0.0611 - val_dice_coefficient: -0.0616 - val_rmse: 0.0236\n",
      "\n",
      "Epoch 00054: val_loss improved from 0.00088 to 0.00086, saving model to model-tgs-salt_2.h5\n",
      "Epoch 55/100\n",
      "84/84 [==============================] - 52s 623ms/step - loss: 0.0012 - mse: 0.0012 - mae: 0.0272 - mape: 1041.4515 - cosine: 0.5887 - weighted_dice_coefficient: -0.0610 - dice_coefficient: -0.0613 - rmse: 0.0272 - val_loss: 8.5537e-04 - val_mse: 8.5537e-04 - val_mae: 0.0235 - val_mape: 863.7836 - val_cosine: 0.6196 - val_weighted_dice_coefficient: -0.0617 - val_dice_coefficient: -0.0621 - val_rmse: 0.0235\n",
      "\n",
      "Epoch 00055: val_loss improved from 0.00086 to 0.00086, saving model to model-tgs-salt_2.h5\n",
      "Epoch 56/100\n",
      "84/84 [==============================] - 52s 624ms/step - loss: 0.0012 - mse: 0.0012 - mae: 0.0269 - mape: 1039.5389 - cosine: 0.5957 - weighted_dice_coefficient: -0.0612 - dice_coefficient: -0.0618 - rmse: 0.0269 - val_loss: 8.5232e-04 - val_mse: 8.5232e-04 - val_mae: 0.0236 - val_mape: 943.5206 - val_cosine: 0.6091 - val_weighted_dice_coefficient: -0.0607 - val_dice_coefficient: -0.0611 - val_rmse: 0.0236\n",
      "\n",
      "Epoch 00056: val_loss improved from 0.00086 to 0.00085, saving model to model-tgs-salt_2.h5\n",
      "Epoch 57/100\n",
      "84/84 [==============================] - 52s 623ms/step - loss: 0.0012 - mse: 0.0012 - mae: 0.0268 - mape: 1021.2360 - cosine: 0.5986 - weighted_dice_coefficient: -0.0618 - dice_coefficient: -0.0624 - rmse: 0.0268 - val_loss: 8.5047e-04 - val_mse: 8.5047e-04 - val_mae: 0.0236 - val_mape: 950.8069 - val_cosine: 0.6088 - val_weighted_dice_coefficient: -0.0605 - val_dice_coefficient: -0.0609 - val_rmse: 0.0236\n",
      "\n",
      "Epoch 00057: val_loss improved from 0.00085 to 0.00085, saving model to model-tgs-salt_2.h5\n",
      "Epoch 58/100\n",
      "84/84 [==============================] - 52s 624ms/step - loss: 0.0012 - mse: 0.0012 - mae: 0.0269 - mape: 1056.8905 - cosine: 0.5963 - weighted_dice_coefficient: -0.0575 - dice_coefficient: -0.0606 - rmse: 0.0269 - val_loss: 8.4219e-04 - val_mse: 8.4219e-04 - val_mae: 0.0234 - val_mape: 913.9372 - val_cosine: 0.6128 - val_weighted_dice_coefficient: -0.0614 - val_dice_coefficient: -0.0618 - val_rmse: 0.0234\n",
      "\n",
      "Epoch 00058: val_loss improved from 0.00085 to 0.00084, saving model to model-tgs-salt_2.h5\n",
      "Epoch 59/100\n",
      "84/84 [==============================] - 52s 623ms/step - loss: 0.0012 - mse: 0.0012 - mae: 0.0274 - mape: 1044.5870 - cosine: 0.5954 - weighted_dice_coefficient: -0.0605 - dice_coefficient: -0.0611 - rmse: 0.0274 - val_loss: 8.3513e-04 - val_mse: 8.3513e-04 - val_mae: 0.0233 - val_mape: 891.9216 - val_cosine: 0.6137 - val_weighted_dice_coefficient: -0.0617 - val_dice_coefficient: -0.0622 - val_rmse: 0.0233\n",
      "\n",
      "Epoch 00059: val_loss improved from 0.00084 to 0.00084, saving model to model-tgs-salt_2.h5\n",
      "Epoch 60/100\n",
      "84/84 [==============================] - 52s 624ms/step - loss: 0.0013 - mse: 0.0013 - mae: 0.0273 - mape: 1046.8658 - cosine: 0.5912 - weighted_dice_coefficient: -0.0625 - dice_coefficient: -0.0631 - rmse: 0.0273 - val_loss: 8.5210e-04 - val_mse: 8.5210e-04 - val_mae: 0.0236 - val_mape: 951.2525 - val_cosine: 0.6081 - val_weighted_dice_coefficient: -0.0608 - val_dice_coefficient: -0.0612 - val_rmse: 0.0236\n",
      "\n",
      "Epoch 00060: val_loss did not improve from 0.00084\n",
      "Epoch 61/100\n",
      "84/84 [==============================] - 52s 624ms/step - loss: 0.0012 - mse: 0.0012 - mae: 0.0267 - mape: 1031.5409 - cosine: 0.5964 - weighted_dice_coefficient: -0.0607 - dice_coefficient: -0.0615 - rmse: 0.0267 - val_loss: 8.4953e-04 - val_mse: 8.4953e-04 - val_mae: 0.0236 - val_mape: 944.3923 - val_cosine: 0.6082 - val_weighted_dice_coefficient: -0.0606 - val_dice_coefficient: -0.0610 - val_rmse: 0.0236\n",
      "\n",
      "Epoch 00061: val_loss did not improve from 0.00084\n",
      "Epoch 62/100\n",
      "84/84 [==============================] - 52s 623ms/step - loss: 0.0012 - mse: 0.0012 - mae: 0.0268 - mape: 1016.8171 - cosine: 0.5949 - weighted_dice_coefficient: -0.0613 - dice_coefficient: -0.0619 - rmse: 0.0268 - val_loss: 8.4460e-04 - val_mse: 8.4460e-04 - val_mae: 0.0235 - val_mape: 899.4960 - val_cosine: 0.6112 - val_weighted_dice_coefficient: -0.0607 - val_dice_coefficient: -0.0611 - val_rmse: 0.0235\n",
      "\n",
      "Epoch 00062: val_loss did not improve from 0.00084\n",
      "Epoch 63/100\n",
      "84/84 [==============================] - 52s 623ms/step - loss: 0.0012 - mse: 0.0012 - mae: 0.0269 - mape: 1022.2134 - cosine: 0.5970 - weighted_dice_coefficient: -0.0608 - dice_coefficient: -0.0612 - rmse: 0.0269 - val_loss: 8.3207e-04 - val_mse: 8.3207e-04 - val_mae: 0.0232 - val_mape: 892.3253 - val_cosine: 0.6134 - val_weighted_dice_coefficient: -0.0610 - val_dice_coefficient: -0.0614 - val_rmse: 0.0232\n",
      "\n",
      "Epoch 00063: val_loss improved from 0.00084 to 0.00083, saving model to model-tgs-salt_2.h5\n",
      "Epoch 64/100\n",
      "84/84 [==============================] - 52s 623ms/step - loss: 0.0012 - mse: 0.0012 - mae: 0.0269 - mape: 999.2086 - cosine: 0.6004 - weighted_dice_coefficient: -0.0616 - dice_coefficient: -0.0624 - rmse: 0.0269 - val_loss: 8.3396e-04 - val_mse: 8.3396e-04 - val_mae: 0.0233 - val_mape: 900.4336 - val_cosine: 0.6130 - val_weighted_dice_coefficient: -0.0611 - val_dice_coefficient: -0.0615 - val_rmse: 0.0233\n",
      "\n",
      "Epoch 00064: val_loss did not improve from 0.00083\n",
      "Epoch 65/100\n",
      "84/84 [==============================] - 52s 623ms/step - loss: 0.0012 - mse: 0.0012 - mae: 0.0264 - mape: 1006.2049 - cosine: 0.6022 - weighted_dice_coefficient: -0.0609 - dice_coefficient: -0.0614 - rmse: 0.0264 - val_loss: 8.3867e-04 - val_mse: 8.3867e-04 - val_mae: 0.0234 - val_mape: 907.9387 - val_cosine: 0.6135 - val_weighted_dice_coefficient: -0.0613 - val_dice_coefficient: -0.0617 - val_rmse: 0.0234\n"
     ]
    },
    {
     "name": "stdout",
     "output_type": "stream",
     "text": [
      "\n",
      "Epoch 00065: val_loss did not improve from 0.00083\n",
      "Epoch 66/100\n",
      "84/84 [==============================] - 52s 623ms/step - loss: 0.0012 - mse: 0.0012 - mae: 0.0270 - mape: 1033.9976 - cosine: 0.5983 - weighted_dice_coefficient: -0.0605 - dice_coefficient: -0.0612 - rmse: 0.0270 - val_loss: 8.3035e-04 - val_mse: 8.3035e-04 - val_mae: 0.0233 - val_mape: 912.8229 - val_cosine: 0.6104 - val_weighted_dice_coefficient: -0.0609 - val_dice_coefficient: -0.0613 - val_rmse: 0.0233\n",
      "\n",
      "Epoch 00066: val_loss improved from 0.00083 to 0.00083, saving model to model-tgs-salt_2.h5\n",
      "Epoch 67/100\n",
      "84/84 [==============================] - 52s 623ms/step - loss: 0.0012 - mse: 0.0012 - mae: 0.0267 - mape: 1026.6685 - cosine: 0.5953 - weighted_dice_coefficient: -0.0607 - dice_coefficient: -0.0614 - rmse: 0.0267 - val_loss: 8.2797e-04 - val_mse: 8.2797e-04 - val_mae: 0.0232 - val_mape: 887.9933 - val_cosine: 0.6144 - val_weighted_dice_coefficient: -0.0614 - val_dice_coefficient: -0.0618 - val_rmse: 0.0232\n",
      "\n",
      "Epoch 00067: val_loss improved from 0.00083 to 0.00083, saving model to model-tgs-salt_2.h5\n",
      "Epoch 68/100\n",
      "84/84 [==============================] - 52s 623ms/step - loss: 0.0012 - mse: 0.0012 - mae: 0.0271 - mape: 1040.9368 - cosine: 0.5955 - weighted_dice_coefficient: -0.0606 - dice_coefficient: -0.0612 - rmse: 0.0271 - val_loss: 8.2680e-04 - val_mse: 8.2680e-04 - val_mae: 0.0232 - val_mape: 888.4595 - val_cosine: 0.6149 - val_weighted_dice_coefficient: -0.0615 - val_dice_coefficient: -0.0619 - val_rmse: 0.0232\n",
      "\n",
      "Epoch 00068: val_loss improved from 0.00083 to 0.00083, saving model to model-tgs-salt_2.h5\n",
      "Epoch 69/100\n",
      "84/84 [==============================] - 52s 623ms/step - loss: 0.0011 - mse: 0.0011 - mae: 0.0262 - mape: 998.5712 - cosine: 0.6006 - weighted_dice_coefficient: -0.0618 - dice_coefficient: -0.0622 - rmse: 0.0262 - val_loss: 8.3704e-04 - val_mse: 8.3704e-04 - val_mae: 0.0234 - val_mape: 972.5889 - val_cosine: 0.6066 - val_weighted_dice_coefficient: -0.0599 - val_dice_coefficient: -0.0603 - val_rmse: 0.0234\n",
      "\n",
      "Epoch 00069: val_loss did not improve from 0.00083\n",
      "Epoch 70/100\n",
      "84/84 [==============================] - 52s 623ms/step - loss: 0.0012 - mse: 0.0012 - mae: 0.0266 - mape: 1022.9870 - cosine: 0.5969 - weighted_dice_coefficient: -0.0608 - dice_coefficient: -0.0614 - rmse: 0.0266 - val_loss: 8.0139e-04 - val_mse: 8.0139e-04 - val_mae: 0.0229 - val_mape: 895.9280 - val_cosine: 0.6129 - val_weighted_dice_coefficient: -0.0617 - val_dice_coefficient: -0.0621 - val_rmse: 0.0229\n",
      "\n",
      "Epoch 00070: val_loss improved from 0.00083 to 0.00080, saving model to model-tgs-salt_2.h5\n",
      "Epoch 71/100\n",
      "84/84 [==============================] - 52s 623ms/step - loss: 0.0012 - mse: 0.0012 - mae: 0.0269 - mape: 1037.3091 - cosine: 0.5962 - weighted_dice_coefficient: -0.0610 - dice_coefficient: -0.0613 - rmse: 0.0269 - val_loss: 8.0969e-04 - val_mse: 8.0969e-04 - val_mae: 0.0229 - val_mape: 895.0557 - val_cosine: 0.6129 - val_weighted_dice_coefficient: -0.0617 - val_dice_coefficient: -0.0621 - val_rmse: 0.0229\n",
      "\n",
      "Epoch 00071: val_loss did not improve from 0.00080\n",
      "Epoch 72/100\n",
      "84/84 [==============================] - 52s 624ms/step - loss: 0.0012 - mse: 0.0012 - mae: 0.0268 - mape: 1001.7457 - cosine: 0.6003 - weighted_dice_coefficient: -0.0611 - dice_coefficient: -0.0616 - rmse: 0.0268 - val_loss: 8.1382e-04 - val_mse: 8.1382e-04 - val_mae: 0.0230 - val_mape: 869.1985 - val_cosine: 0.6154 - val_weighted_dice_coefficient: -0.0619 - val_dice_coefficient: -0.0623 - val_rmse: 0.0230\n",
      "\n",
      "Epoch 00072: val_loss did not improve from 0.00080\n",
      "Epoch 73/100\n",
      "84/84 [==============================] - 52s 623ms/step - loss: 0.0011 - mse: 0.0011 - mae: 0.0260 - mape: 1004.1591 - cosine: 0.6050 - weighted_dice_coefficient: -0.0612 - dice_coefficient: -0.0618 - rmse: 0.0260 - val_loss: 8.0729e-04 - val_mse: 8.0729e-04 - val_mae: 0.0229 - val_mape: 860.5697 - val_cosine: 0.6156 - val_weighted_dice_coefficient: -0.0619 - val_dice_coefficient: -0.0623 - val_rmse: 0.0229\n",
      "\n",
      "Epoch 00073: val_loss did not improve from 0.00080\n",
      "Epoch 74/100\n",
      "84/84 [==============================] - 52s 623ms/step - loss: 0.0011 - mse: 0.0011 - mae: 0.0260 - mape: 997.7204 - cosine: 0.6053 - weighted_dice_coefficient: -0.0612 - dice_coefficient: -0.0623 - rmse: 0.0260 - val_loss: 8.1637e-04 - val_mse: 8.1637e-04 - val_mae: 0.0231 - val_mape: 858.7422 - val_cosine: 0.6183 - val_weighted_dice_coefficient: -0.0623 - val_dice_coefficient: -0.0627 - val_rmse: 0.0231\n",
      "\n",
      "Epoch 00074: val_loss did not improve from 0.00080\n",
      "Epoch 75/100\n",
      "84/84 [==============================] - 52s 623ms/step - loss: 0.0011 - mse: 0.0011 - mae: 0.0261 - mape: 998.0482 - cosine: 0.5984 - weighted_dice_coefficient: -0.0612 - dice_coefficient: -0.0616 - rmse: 0.0261 - val_loss: 8.1302e-04 - val_mse: 8.1302e-04 - val_mae: 0.0231 - val_mape: 867.6506 - val_cosine: 0.6160 - val_weighted_dice_coefficient: -0.0618 - val_dice_coefficient: -0.0622 - val_rmse: 0.0231\n",
      "\n",
      "Epoch 00075: val_loss did not improve from 0.00080\n",
      "Epoch 76/100\n",
      "84/84 [==============================] - 52s 624ms/step - loss: 0.0012 - mse: 0.0012 - mae: 0.0265 - mape: 1007.0167 - cosine: 0.6013 - weighted_dice_coefficient: -0.0613 - dice_coefficient: -0.0618 - rmse: 0.0265 - val_loss: 8.0212e-04 - val_mse: 8.0212e-04 - val_mae: 0.0228 - val_mape: 845.6956 - val_cosine: 0.6208 - val_weighted_dice_coefficient: -0.0623 - val_dice_coefficient: -0.0627 - val_rmse: 0.0228\n",
      "\n",
      "Epoch 00076: val_loss did not improve from 0.00080\n",
      "Epoch 77/100\n",
      "84/84 [==============================] - 52s 624ms/step - loss: 0.0011 - mse: 0.0011 - mae: 0.0257 - mape: 976.2736 - cosine: 0.6072 - weighted_dice_coefficient: -0.0612 - dice_coefficient: -0.0617 - rmse: 0.0257 - val_loss: 7.9507e-04 - val_mse: 7.9507e-04 - val_mae: 0.0226 - val_mape: 795.2952 - val_cosine: 0.6278 - val_weighted_dice_coefficient: -0.0631 - val_dice_coefficient: -0.0636 - val_rmse: 0.0226\n",
      "\n",
      "Epoch 00077: val_loss improved from 0.00080 to 0.00080, saving model to model-tgs-salt_2.h5\n",
      "Epoch 78/100\n",
      "84/84 [==============================] - 52s 623ms/step - loss: 0.0011 - mse: 0.0011 - mae: 0.0262 - mape: 992.9590 - cosine: 0.6063 - weighted_dice_coefficient: -0.0617 - dice_coefficient: -0.0623 - rmse: 0.0262 - val_loss: 7.9492e-04 - val_mse: 7.9492e-04 - val_mae: 0.0227 - val_mape: 859.6813 - val_cosine: 0.6162 - val_weighted_dice_coefficient: -0.0616 - val_dice_coefficient: -0.0620 - val_rmse: 0.0227\n",
      "\n",
      "Epoch 00078: val_loss improved from 0.00080 to 0.00079, saving model to model-tgs-salt_2.h5\n",
      "Epoch 79/100\n",
      "84/84 [==============================] - 52s 624ms/step - loss: 0.0011 - mse: 0.0011 - mae: 0.0257 - mape: 978.3734 - cosine: 0.6058 - weighted_dice_coefficient: -0.0614 - dice_coefficient: -0.0620 - rmse: 0.0257 - val_loss: 7.9168e-04 - val_mse: 7.9168e-04 - val_mae: 0.0227 - val_mape: 857.9580 - val_cosine: 0.6166 - val_weighted_dice_coefficient: -0.0619 - val_dice_coefficient: -0.0622 - val_rmse: 0.0227\n",
      "\n",
      "Epoch 00079: val_loss improved from 0.00079 to 0.00079, saving model to model-tgs-salt_2.h5\n",
      "Epoch 80/100\n",
      "84/84 [==============================] - 52s 623ms/step - loss: 0.0011 - mse: 0.0011 - mae: 0.0254 - mape: 976.9136 - cosine: 0.6061 - weighted_dice_coefficient: -0.0612 - dice_coefficient: -0.0616 - rmse: 0.0254 - val_loss: 7.8605e-04 - val_mse: 7.8605e-04 - val_mae: 0.0226 - val_mape: 857.2661 - val_cosine: 0.6166 - val_weighted_dice_coefficient: -0.0619 - val_dice_coefficient: -0.0622 - val_rmse: 0.0226\n",
      "\n",
      "Epoch 00080: val_loss improved from 0.00079 to 0.00079, saving model to model-tgs-salt_2.h5\n",
      "Epoch 81/100\n",
      "84/84 [==============================] - 52s 624ms/step - loss: 0.0011 - mse: 0.0011 - mae: 0.0256 - mape: 976.3221 - cosine: 0.6070 - weighted_dice_coefficient: -0.0619 - dice_coefficient: -0.0624 - rmse: 0.0256 - val_loss: 7.7477e-04 - val_mse: 7.7477e-04 - val_mae: 0.0225 - val_mape: 861.2065 - val_cosine: 0.6151 - val_weighted_dice_coefficient: -0.0621 - val_dice_coefficient: -0.0625 - val_rmse: 0.0225\n",
      "\n",
      "Epoch 00081: val_loss improved from 0.00079 to 0.00077, saving model to model-tgs-salt_2.h5\n",
      "Epoch 82/100\n"
     ]
    },
    {
     "name": "stdout",
     "output_type": "stream",
     "text": [
      "84/84 [==============================] - 52s 623ms/step - loss: 0.0011 - mse: 0.0011 - mae: 0.0259 - mape: 980.2193 - cosine: 0.6064 - weighted_dice_coefficient: -0.0610 - dice_coefficient: -0.0615 - rmse: 0.0259 - val_loss: 7.7226e-04 - val_mse: 7.7226e-04 - val_mae: 0.0225 - val_mape: 872.5413 - val_cosine: 0.6163 - val_weighted_dice_coefficient: -0.0622 - val_dice_coefficient: -0.0625 - val_rmse: 0.0225\n",
      "\n",
      "Epoch 00082: val_loss improved from 0.00077 to 0.00077, saving model to model-tgs-salt_2.h5\n",
      "Epoch 83/100\n",
      "84/84 [==============================] - 52s 623ms/step - loss: 0.0011 - mse: 0.0011 - mae: 0.0255 - mape: 955.0934 - cosine: 0.6133 - weighted_dice_coefficient: -0.0616 - dice_coefficient: -0.0620 - rmse: 0.0255 - val_loss: 7.7346e-04 - val_mse: 7.7346e-04 - val_mae: 0.0224 - val_mape: 869.7356 - val_cosine: 0.6154 - val_weighted_dice_coefficient: -0.0617 - val_dice_coefficient: -0.0620 - val_rmse: 0.0224\n",
      "\n",
      "Epoch 00083: val_loss did not improve from 0.00077\n",
      "Epoch 84/100\n",
      "84/84 [==============================] - 52s 623ms/step - loss: 0.0011 - mse: 0.0011 - mae: 0.0254 - mape: 981.1040 - cosine: 0.6076 - weighted_dice_coefficient: -0.0621 - dice_coefficient: -0.0625 - rmse: 0.0254 - val_loss: 7.7652e-04 - val_mse: 7.7652e-04 - val_mae: 0.0225 - val_mape: 890.3827 - val_cosine: 0.6143 - val_weighted_dice_coefficient: -0.0617 - val_dice_coefficient: -0.0621 - val_rmse: 0.0225\n",
      "\n",
      "Epoch 00084: val_loss did not improve from 0.00077\n",
      "Epoch 85/100\n",
      "84/84 [==============================] - 52s 623ms/step - loss: 0.0010 - mse: 0.0010 - mae: 0.0250 - mape: 942.5560 - cosine: 0.6153 - weighted_dice_coefficient: -0.0628 - dice_coefficient: -0.0633 - rmse: 0.0250 - val_loss: 7.7869e-04 - val_mse: 7.7869e-04 - val_mae: 0.0226 - val_mape: 881.4558 - val_cosine: 0.6120 - val_weighted_dice_coefficient: -0.0614 - val_dice_coefficient: -0.0618 - val_rmse: 0.0226\n",
      "\n",
      "Epoch 00085: val_loss did not improve from 0.00077\n",
      "Epoch 86/100\n",
      "84/84 [==============================] - 52s 624ms/step - loss: 0.0011 - mse: 0.0011 - mae: 0.0257 - mape: 983.7928 - cosine: 0.6053 - weighted_dice_coefficient: -0.0616 - dice_coefficient: -0.0622 - rmse: 0.0257 - val_loss: 7.8698e-04 - val_mse: 7.8698e-04 - val_mae: 0.0225 - val_mape: 785.8042 - val_cosine: 0.6288 - val_weighted_dice_coefficient: -0.0633 - val_dice_coefficient: -0.0638 - val_rmse: 0.0225\n",
      "\n",
      "Epoch 00086: val_loss did not improve from 0.00077\n",
      "Epoch 87/100\n",
      "84/84 [==============================] - 52s 623ms/step - loss: 0.0010 - mse: 0.0010 - mae: 0.0247 - mape: 932.5560 - cosine: 0.6146 - weighted_dice_coefficient: -0.0620 - dice_coefficient: -0.0627 - rmse: 0.0247 - val_loss: 7.7543e-04 - val_mse: 7.7543e-04 - val_mae: 0.0225 - val_mape: 828.6614 - val_cosine: 0.6181 - val_weighted_dice_coefficient: -0.0620 - val_dice_coefficient: -0.0624 - val_rmse: 0.0225\n",
      "\n",
      "Epoch 00087: val_loss did not improve from 0.00077\n",
      "Epoch 88/100\n",
      "84/84 [==============================] - 52s 624ms/step - loss: 0.0010 - mse: 0.0010 - mae: 0.0247 - mape: 949.2230 - cosine: 0.6158 - weighted_dice_coefficient: -0.0629 - dice_coefficient: -0.0632 - rmse: 0.0247 - val_loss: 7.6867e-04 - val_mse: 7.6867e-04 - val_mae: 0.0224 - val_mape: 800.3798 - val_cosine: 0.6202 - val_weighted_dice_coefficient: -0.0626 - val_dice_coefficient: -0.0630 - val_rmse: 0.0224\n",
      "\n",
      "Epoch 00088: val_loss improved from 0.00077 to 0.00077, saving model to model-tgs-salt_2.h5\n",
      "Epoch 89/100\n",
      "84/84 [==============================] - 52s 622ms/step - loss: 0.0010 - mse: 0.0010 - mae: 0.0249 - mape: 949.4766 - cosine: 0.6095 - weighted_dice_coefficient: -0.0623 - dice_coefficient: -0.0629 - rmse: 0.0249 - val_loss: 7.6821e-04 - val_mse: 7.6821e-04 - val_mae: 0.0224 - val_mape: 809.5482 - val_cosine: 0.6194 - val_weighted_dice_coefficient: -0.0625 - val_dice_coefficient: -0.0629 - val_rmse: 0.0224\n",
      "\n",
      "Epoch 00089: val_loss improved from 0.00077 to 0.00077, saving model to model-tgs-salt_2.h5\n",
      "Epoch 90/100\n",
      "84/84 [==============================] - 52s 624ms/step - loss: 0.0010 - mse: 0.0010 - mae: 0.0248 - mape: 939.8160 - cosine: 0.6113 - weighted_dice_coefficient: -0.0626 - dice_coefficient: -0.0632 - rmse: 0.0248 - val_loss: 7.7500e-04 - val_mse: 7.7500e-04 - val_mae: 0.0225 - val_mape: 835.6248 - val_cosine: 0.6186 - val_weighted_dice_coefficient: -0.0624 - val_dice_coefficient: -0.0628 - val_rmse: 0.0225\n",
      "\n",
      "Epoch 00090: val_loss did not improve from 0.00077\n",
      "Epoch 91/100\n",
      "84/84 [==============================] - 52s 623ms/step - loss: 0.0010 - mse: 0.0010 - mae: 0.0249 - mape: 944.5161 - cosine: 0.6123 - weighted_dice_coefficient: -0.0621 - dice_coefficient: -0.0626 - rmse: 0.0249 - val_loss: 7.7151e-04 - val_mse: 7.7151e-04 - val_mae: 0.0224 - val_mape: 883.0960 - val_cosine: 0.6133 - val_weighted_dice_coefficient: -0.0617 - val_dice_coefficient: -0.0621 - val_rmse: 0.0224\n",
      "\n",
      "Epoch 00091: val_loss did not improve from 0.00077\n",
      "Epoch 92/100\n",
      "84/84 [==============================] - 52s 623ms/step - loss: 0.0010 - mse: 0.0010 - mae: 0.0249 - mape: 951.7846 - cosine: 0.6136 - weighted_dice_coefficient: -0.0620 - dice_coefficient: -0.0627 - rmse: 0.0249 - val_loss: 7.5915e-04 - val_mse: 7.5915e-04 - val_mae: 0.0224 - val_mape: 884.0150 - val_cosine: 0.6115 - val_weighted_dice_coefficient: -0.0619 - val_dice_coefficient: -0.0622 - val_rmse: 0.0224\n",
      "\n",
      "Epoch 00092: val_loss improved from 0.00077 to 0.00076, saving model to model-tgs-salt_2.h5\n",
      "Epoch 93/100\n",
      "84/84 [==============================] - 52s 623ms/step - loss: 9.8576e-04 - mse: 9.8576e-04 - mae: 0.0246 - mape: 950.2021 - cosine: 0.6126 - weighted_dice_coefficient: -0.0623 - dice_coefficient: -0.0628 - rmse: 0.0246 - val_loss: 7.6603e-04 - val_mse: 7.6603e-04 - val_mae: 0.0225 - val_mape: 900.9099 - val_cosine: 0.6098 - val_weighted_dice_coefficient: -0.0614 - val_dice_coefficient: -0.0618 - val_rmse: 0.0225\n",
      "\n",
      "Epoch 00093: val_loss did not improve from 0.00076\n",
      "Epoch 94/100\n",
      "84/84 [==============================] - 52s 623ms/step - loss: 0.0010 - mse: 0.0010 - mae: 0.0251 - mape: 955.7679 - cosine: 0.6165 - weighted_dice_coefficient: -0.0617 - dice_coefficient: -0.0622 - rmse: 0.0251 - val_loss: 7.6321e-04 - val_mse: 7.6321e-04 - val_mae: 0.0224 - val_mape: 859.5783 - val_cosine: 0.6152 - val_weighted_dice_coefficient: -0.0622 - val_dice_coefficient: -0.0626 - val_rmse: 0.0224\n",
      "\n",
      "Epoch 00094: val_loss did not improve from 0.00076\n",
      "Epoch 95/100\n",
      "84/84 [==============================] - 52s 623ms/step - loss: 0.0010 - mse: 0.0010 - mae: 0.0247 - mape: 955.6786 - cosine: 0.6169 - weighted_dice_coefficient: -0.0620 - dice_coefficient: -0.0625 - rmse: 0.0247 - val_loss: 7.6729e-04 - val_mse: 7.6729e-04 - val_mae: 0.0224 - val_mape: 835.1422 - val_cosine: 0.6203 - val_weighted_dice_coefficient: -0.0626 - val_dice_coefficient: -0.0630 - val_rmse: 0.0224\n",
      "\n",
      "Epoch 00095: val_loss did not improve from 0.00076\n",
      "Epoch 96/100\n",
      "84/84 [==============================] - 52s 624ms/step - loss: 9.8755e-04 - mse: 9.8755e-04 - mae: 0.0247 - mape: 937.5109 - cosine: 0.6173 - weighted_dice_coefficient: -0.0618 - dice_coefficient: -0.0623 - rmse: 0.0247 - val_loss: 7.6353e-04 - val_mse: 7.6353e-04 - val_mae: 0.0224 - val_mape: 871.8109 - val_cosine: 0.6142 - val_weighted_dice_coefficient: -0.0622 - val_dice_coefficient: -0.0626 - val_rmse: 0.0224\n",
      "\n",
      "Epoch 00096: val_loss did not improve from 0.00076\n",
      "Epoch 97/100\n",
      "84/84 [==============================] - 52s 624ms/step - loss: 9.8134e-04 - mse: 9.8134e-04 - mae: 0.0245 - mape: 952.3113 - cosine: 0.6153 - weighted_dice_coefficient: -0.0621 - dice_coefficient: -0.0625 - rmse: 0.0245 - val_loss: 7.6696e-04 - val_mse: 7.6696e-04 - val_mae: 0.0223 - val_mape: 817.4968 - val_cosine: 0.6247 - val_weighted_dice_coefficient: -0.0635 - val_dice_coefficient: -0.0639 - val_rmse: 0.0223\n",
      "\n",
      "Epoch 00097: val_loss did not improve from 0.00076\n",
      "Epoch 98/100\n",
      "84/84 [==============================] - 52s 623ms/step - loss: 0.0010 - mse: 0.0010 - mae: 0.0249 - mape: 960.7028 - cosine: 0.6148 - weighted_dice_coefficient: -0.0613 - dice_coefficient: -0.0619 - rmse: 0.0249 - val_loss: 7.5797e-04 - val_mse: 7.5797e-04 - val_mae: 0.0222 - val_mape: 816.8234 - val_cosine: 0.6246 - val_weighted_dice_coefficient: -0.0637 - val_dice_coefficient: -0.0642 - val_rmse: 0.0222\n"
     ]
    },
    {
     "name": "stdout",
     "output_type": "stream",
     "text": [
      "\n",
      "Epoch 00098: val_loss improved from 0.00076 to 0.00076, saving model to model-tgs-salt_2.h5\n",
      "Epoch 99/100\n",
      "84/84 [==============================] - 52s 623ms/step - loss: 9.8407e-04 - mse: 9.8408e-04 - mae: 0.0245 - mape: 936.6135 - cosine: 0.6198 - weighted_dice_coefficient: -0.0622 - dice_coefficient: -0.0629 - rmse: 0.0245 - val_loss: 7.3203e-04 - val_mse: 7.3203e-04 - val_mae: 0.0218 - val_mape: 818.4212 - val_cosine: 0.6208 - val_weighted_dice_coefficient: -0.0634 - val_dice_coefficient: -0.0638 - val_rmse: 0.0218\n",
      "\n",
      "Epoch 00099: val_loss improved from 0.00076 to 0.00073, saving model to model-tgs-salt_2.h5\n",
      "Epoch 100/100\n",
      "84/84 [==============================] - 52s 623ms/step - loss: 9.7458e-04 - mse: 9.7457e-04 - mae: 0.0244 - mape: 930.1453 - cosine: 0.6172 - weighted_dice_coefficient: -0.0621 - dice_coefficient: -0.0627 - rmse: 0.0244 - val_loss: 7.3724e-04 - val_mse: 7.3724e-04 - val_mae: 0.0220 - val_mape: 854.6892 - val_cosine: 0.6145 - val_weighted_dice_coefficient: -0.0626 - val_dice_coefficient: -0.0630 - val_rmse: 0.0220\n",
      "\n",
      "Epoch 00100: val_loss did not improve from 0.00073\n"
     ]
    }
   ],
   "source": [
    "results = model.fit(X_train, y_train, batch_size=2, epochs=100, callbacks=callbacks,\n",
    "                    validation_data=(X_valid, y_valid),verbose=1)"
   ]
  },
  {
   "cell_type": "code",
   "execution_count": 87,
   "metadata": {},
   "outputs": [
    {
     "data": {
      "text/plain": [
       "<matplotlib.legend.Legend at 0x17d056323c8>"
      ]
     },
     "execution_count": 87,
     "metadata": {},
     "output_type": "execute_result"
    },
    {
     "data": {
      "image/png": "[encoded data removed]",
      "text/plain": [
       "<Figure size 1080x1080 with 1 Axes>"
      ]
     },
     "metadata": {},
     "output_type": "display_data"
    }
   ],
   "source": [
    "plt.figure(figsize=(15, 15))\n",
    "loss_train = results.history['val_loss']\n",
    "loss_val_mse = results.history['val_mse']\n",
    "loss_val_mae = results.history['val_mae']\n",
    "loss_val_mape = results.history['val_mape']\n",
    "loss_val_cosine = results.history['val_cosine']\n",
    "loss_val_rmse = results.history['val_rmse']\n",
    "epochs = range(0,100)\n",
    "#plt.plot(epochs, loss_train, 'green', label='Training loss')\n",
    "plt.plot(epochs, loss_val_mse, 'blue', label='mse')\n",
    "#plt.plot(epochs, loss_val_mape, 'red', label='mape')\n",
    "plt.plot(epochs, loss_val_cosine, 'black', label='cosine')\n",
    "plt.plot(epochs, loss_val_rmse, 'orange', label='rmse')\n",
    "plt.title('Training and Validation loss')\n",
    "plt.xlabel('Epochs')\n",
    "plt.ylabel('Loss')\n",
    "plt.legend()\n",
    "#plt.show()"
   ]
  },
  {
   "cell_type": "code",
   "execution_count": 88,
   "metadata": {},
   "outputs": [],
   "source": [
    "# Load best model\n",
    "model.load_weights('model-tgs-salt_2.h5')"
   ]
  },
  {
   "cell_type": "code",
   "execution_count": 89,
   "metadata": {},
   "outputs": [
    {
     "name": "stdout",
     "output_type": "stream",
     "text": [
      "36/36 [==============================] - 7s 200ms/step\n"
     ]
    },
    {
     "data": {
      "text/plain": [
       "[0.000732027009588718,\n",
       " 0.0007320269360207021,\n",
       " 0.021833783015608788,\n",
       " 818.4212036132812,\n",
       " 0.6207819581031799,\n",
       " -0.0633755624294281,\n",
       " -0.06342444568872452,\n",
       " 0.021833783015608788]"
      ]
     },
     "execution_count": 89,
     "metadata": {},
     "output_type": "execute_result"
    }
   ],
   "source": [
    "# Evaluate on validation set (this must be equals to the best log_loss)\n",
    "model.evaluate(X_valid, y_valid, batch_size=1,verbose=1)"
   ]
  },
  {
   "cell_type": "code",
   "execution_count": 90,
   "metadata": {},
   "outputs": [
    {
     "name": "stdout",
     "output_type": "stream",
     "text": [
      "84/84 [==============================] - 16s 196ms/step\n",
      "36/36 [==============================] - 7s 194ms/step\n"
     ]
    }
   ],
   "source": [
    "\n",
    "# Predict on train, val and test\n",
    "preds_train = model.predict(X_train, batch_size=1,verbose=1)\n",
    "preds_val = model.predict(X_valid, batch_size=1,verbose=1)\n",
    "\n",
    "\n",
    "# Threshold predictions\n",
    "#preds_train_t = (preds_train > 0.5).astype(np.float32)\n",
    "#preds_val_t = (preds_val > 0.5).astype(np.float32)"
   ]
  },
  {
   "cell_type": "code",
   "execution_count": 91,
   "metadata": {},
   "outputs": [
    {
     "name": "stdout",
     "output_type": "stream",
     "text": [
      "(84, 128, 128, 128, 1) <class 'numpy.ndarray'>\n"
     ]
    }
   ],
   "source": [
    "print(preds_train.shape,type(preds_train) )\n",
    "np.save('D:/aminur/data/result_train_120.npy',preds_train)"
   ]
  },
  {
   "cell_type": "code",
   "execution_count": 92,
   "metadata": {},
   "outputs": [
    {
     "name": "stdout",
     "output_type": "stream",
     "text": [
      "(36, 128, 128, 128, 1) <class 'numpy.ndarray'>\n"
     ]
    }
   ],
   "source": [
    "print(preds_val.shape,type(preds_val) )\n",
    "np.save('D:/aminur/data/result_val_120.npy',preds_val)"
   ]
  },
  {
   "cell_type": "code",
   "execution_count": 93,
   "metadata": {},
   "outputs": [],
   "source": [
    "\n",
    "max_value=17398.0390625\n",
    "#preds_val=preds_val*max_value\n",
    "preds_train1=preds_train.reshape(84,128,128,128)\n",
    "preds_val1=preds_val.reshape(36,128,128,128)\n",
    "np.save('D:/aminur/data/result_train_120_2.npy',preds_train1)\n",
    "np.save('D:/aminur/data/result_val_120_2.npy',preds_val1)\n",
    "#p=preds_val[1]\n",
    "#print(p)\n",
    "#print(preds_val[1])\n",
    "#print(preds_val[1]*22479.19140625)\n",
    "#preds_train2=preds_train1[0:300]*24022.943359375\n",
    "#preds_val2=preds_val1*24022.943359375\n",
    "preds_val2=preds_val1*max_value\n",
    "preds_train2=preds_train1*max_value\n",
    "np.save('D:/aminur/data/result_train_max_120_3.npy',preds_train2)\n",
    "np.save('D:/aminur/data/result_val_max_120_3.npy',preds_val2)\n",
    "#print(preds_val[1])\n",
    "\n",
    "\n"
   ]
  },
  {
   "cell_type": "code",
   "execution_count": 94,
   "metadata": {},
   "outputs": [
    {
     "name": "stdout",
     "output_type": "stream",
     "text": [
      "[[[[-0.11771441]\n",
      "   [-0.11771441]\n",
      "   [-0.11771441]\n",
      "   ...\n",
      "   [-0.11771441]\n",
      "   [-0.11771441]\n",
      "   [-0.11771441]]\n",
      "\n",
      "  [[-0.11771441]\n",
      "   [-0.11771441]\n",
      "   [-0.11771441]\n",
      "   ...\n",
      "   [-0.11771441]\n",
      "   [-0.11771441]\n",
      "   [-0.11771441]]\n",
      "\n",
      "  [[-0.11771441]\n",
      "   [-0.11771441]\n",
      "   [-0.11771441]\n",
      "   ...\n",
      "   [-0.11771441]\n",
      "   [-0.11771441]\n",
      "   [-0.11771441]]\n",
      "\n",
      "  ...\n",
      "\n",
      "  [[-0.11771441]\n",
      "   [-0.11771441]\n",
      "   [-0.11771441]\n",
      "   ...\n",
      "   [-0.11771441]\n",
      "   [-0.11771441]\n",
      "   [-0.11771441]]\n",
      "\n",
      "  [[-0.11771441]\n",
      "   [-0.11771441]\n",
      "   [-0.11771441]\n",
      "   ...\n",
      "   [-0.11771441]\n",
      "   [-0.11771441]\n",
      "   [-0.11771441]]\n",
      "\n",
      "  [[-0.11771441]\n",
      "   [-0.11771441]\n",
      "   [-0.11771441]\n",
      "   ...\n",
      "   [-0.11771441]\n",
      "   [-0.11771441]\n",
      "   [-0.11771441]]]\n",
      "\n",
      "\n",
      " [[[-0.11771441]\n",
      "   [-0.11771441]\n",
      "   [-0.11771441]\n",
      "   ...\n",
      "   [-0.11771441]\n",
      "   [-0.11771441]\n",
      "   [-0.11771441]]\n",
      "\n",
      "  [[-0.11771441]\n",
      "   [-0.11771441]\n",
      "   [-0.11771441]\n",
      "   ...\n",
      "   [-0.11771441]\n",
      "   [-0.11771441]\n",
      "   [-0.11771441]]\n",
      "\n",
      "  [[-0.11771441]\n",
      "   [-0.11771441]\n",
      "   [-0.11771441]\n",
      "   ...\n",
      "   [-0.11771441]\n",
      "   [-0.11771441]\n",
      "   [-0.11771441]]\n",
      "\n",
      "  ...\n",
      "\n",
      "  [[-0.11771441]\n",
      "   [-0.11771441]\n",
      "   [-0.11771441]\n",
      "   ...\n",
      "   [-0.11771441]\n",
      "   [-0.11771441]\n",
      "   [-0.11771441]]\n",
      "\n",
      "  [[-0.11771441]\n",
      "   [-0.11771441]\n",
      "   [-0.11771441]\n",
      "   ...\n",
      "   [-0.11771441]\n",
      "   [-0.11771441]\n",
      "   [-0.11771441]]\n",
      "\n",
      "  [[-0.11771441]\n",
      "   [-0.11771441]\n",
      "   [-0.11771441]\n",
      "   ...\n",
      "   [-0.11771441]\n",
      "   [-0.11771441]\n",
      "   [-0.11771441]]]\n",
      "\n",
      "\n",
      " [[[-0.11771441]\n",
      "   [-0.11771441]\n",
      "   [-0.11771441]\n",
      "   ...\n",
      "   [-0.11771441]\n",
      "   [-0.11771441]\n",
      "   [-0.11771441]]\n",
      "\n",
      "  [[-0.11771441]\n",
      "   [-0.11771441]\n",
      "   [-0.11771441]\n",
      "   ...\n",
      "   [-0.11771441]\n",
      "   [-0.11771441]\n",
      "   [-0.11771441]]\n",
      "\n",
      "  [[-0.11771441]\n",
      "   [-0.11771441]\n",
      "   [-0.11771441]\n",
      "   ...\n",
      "   [-0.11771441]\n",
      "   [-0.11771441]\n",
      "   [-0.11771441]]\n",
      "\n",
      "  ...\n",
      "\n",
      "  [[-0.11771441]\n",
      "   [-0.11771441]\n",
      "   [-0.11771441]\n",
      "   ...\n",
      "   [-0.11771441]\n",
      "   [-0.11771441]\n",
      "   [-0.11771441]]\n",
      "\n",
      "  [[-0.11771441]\n",
      "   [-0.11771441]\n",
      "   [-0.11771441]\n",
      "   ...\n",
      "   [-0.11771441]\n",
      "   [-0.11771441]\n",
      "   [-0.11771441]]\n",
      "\n",
      "  [[-0.11771441]\n",
      "   [-0.11771441]\n",
      "   [-0.11771441]\n",
      "   ...\n",
      "   [-0.11771441]\n",
      "   [-0.11771441]\n",
      "   [-0.11771441]]]\n",
      "\n",
      "\n",
      " ...\n",
      "\n",
      "\n",
      " [[[-0.11771441]\n",
      "   [-0.11771441]\n",
      "   [-0.11771441]\n",
      "   ...\n",
      "   [-0.11771441]\n",
      "   [-0.11771441]\n",
      "   [-0.11771441]]\n",
      "\n",
      "  [[-0.11771441]\n",
      "   [-0.11771441]\n",
      "   [-0.11771441]\n",
      "   ...\n",
      "   [-0.11771441]\n",
      "   [-0.11771441]\n",
      "   [-0.11771441]]\n",
      "\n",
      "  [[-0.11771441]\n",
      "   [-0.11771441]\n",
      "   [-0.11771441]\n",
      "   ...\n",
      "   [-0.11771441]\n",
      "   [-0.11771441]\n",
      "   [-0.11771441]]\n",
      "\n",
      "  ...\n",
      "\n",
      "  [[-0.11771441]\n",
      "   [-0.11771441]\n",
      "   [-0.11771441]\n",
      "   ...\n",
      "   [-0.11771441]\n",
      "   [-0.11771441]\n",
      "   [-0.11771441]]\n",
      "\n",
      "  [[-0.11771441]\n",
      "   [-0.11771441]\n",
      "   [-0.11771441]\n",
      "   ...\n",
      "   [-0.11771441]\n",
      "   [-0.11771441]\n",
      "   [-0.11771441]]\n",
      "\n",
      "  [[-0.11771441]\n",
      "   [-0.11771441]\n",
      "   [-0.11771441]\n",
      "   ...\n",
      "   [-0.11771441]\n",
      "   [-0.11771441]\n",
      "   [-0.11771441]]]\n",
      "\n",
      "\n",
      " [[[-0.11771441]\n",
      "   [-0.11771441]\n",
      "   [-0.11771441]\n",
      "   ...\n",
      "   [-0.11771441]\n",
      "   [-0.11771441]\n",
      "   [-0.11771441]]\n",
      "\n",
      "  [[-0.11771441]\n",
      "   [-0.11771441]\n",
      "   [-0.11771441]\n",
      "   ...\n",
      "   [-0.11771441]\n",
      "   [-0.11771441]\n",
      "   [-0.11771441]]\n",
      "\n",
      "  [[-0.11771441]\n",
      "   [-0.11771441]\n",
      "   [-0.11771441]\n",
      "   ...\n",
      "   [-0.11771441]\n",
      "   [-0.11771441]\n",
      "   [-0.11771441]]\n",
      "\n",
      "  ...\n",
      "\n",
      "  [[-0.11771441]\n",
      "   [-0.11771441]\n",
      "   [-0.11771441]\n",
      "   ...\n",
      "   [-0.11771441]\n",
      "   [-0.11771441]\n",
      "   [-0.11771441]]\n",
      "\n",
      "  [[-0.11771441]\n",
      "   [-0.11771441]\n",
      "   [-0.11771441]\n",
      "   ...\n",
      "   [-0.11771441]\n",
      "   [-0.11771441]\n",
      "   [-0.11771441]]\n",
      "\n",
      "  [[-0.11771441]\n",
      "   [-0.11771441]\n",
      "   [-0.11771441]\n",
      "   ...\n",
      "   [-0.11771441]\n",
      "   [-0.11771441]\n",
      "   [-0.11771441]]]\n",
      "\n",
      "\n",
      " [[[-0.11771441]\n",
      "   [-0.11771441]\n",
      "   [-0.11771441]\n",
      "   ...\n",
      "   [-0.11771441]\n",
      "   [-0.11771441]\n",
      "   [-0.11771441]]\n",
      "\n",
      "  [[-0.11771441]\n",
      "   [-0.11771441]\n",
      "   [-0.11771441]\n",
      "   ...\n",
      "   [-0.11771441]\n",
      "   [-0.11771441]\n",
      "   [-0.11771441]]\n",
      "\n",
      "  [[-0.11771441]\n",
      "   [-0.11771441]\n",
      "   [-0.11771441]\n",
      "   ...\n",
      "   [-0.11771441]\n",
      "   [-0.11771441]\n",
      "   [-0.11771441]]\n",
      "\n",
      "  ...\n",
      "\n",
      "  [[-0.11771441]\n",
      "   [-0.11771441]\n",
      "   [-0.11771441]\n",
      "   ...\n",
      "   [-0.11771441]\n",
      "   [-0.11771441]\n",
      "   [-0.11771441]]\n",
      "\n",
      "  [[-0.11771441]\n",
      "   [-0.11771441]\n",
      "   [-0.11771441]\n",
      "   ...\n",
      "   [-0.11771441]\n",
      "   [-0.11771441]\n",
      "   [-0.11771441]]\n",
      "\n",
      "  [[-0.11771441]\n",
      "   [-0.11771441]\n",
      "   [-0.11771441]\n",
      "   ...\n",
      "   [-0.11771441]\n",
      "   [-0.11771441]\n",
      "   [-0.11771441]]]]\n"
     ]
    }
   ],
   "source": [
    "y=np.load('D:/aminur/data/test_120.npy')\n",
    "print(y[14])\n",
    "y14=y[108].reshape(128,128,128)\n",
    "y14=y14*17398.0390625"
   ]
  },
  {
   "cell_type": "code",
   "execution_count": 95,
   "metadata": {},
   "outputs": [],
   "source": [
    "import numpy as np\n",
    "import matplotlib.pyplot as plt\n",
    "import os\n",
    "import scipy.ndimage\n",
    "#import sys\n",
    "#!{sys.executable} -m pip install plotly\n",
    "from plotly.tools import FigureFactory as FF\n",
    "from mpl_toolkits.mplot3d.art3d import Poly3DCollection\n",
    "from skimage import measure\n",
    "from plotly.offline import download_plotlyjs, init_notebook_mode, plot, iplot"
   ]
  },
  {
   "cell_type": "code",
   "execution_count": 97,
   "metadata": {},
   "outputs": [
    {
     "name": "stdout",
     "output_type": "stream",
     "text": [
      "Transposing surface\n",
      "Calculating surface\n",
      "Drawing\n"
     ]
    },
    {
     "data": {
      "image/png": "[encoded data removed]",
      "text/plain": [
       "<Figure size 720x720 with 1 Axes>"
      ]
     },
     "metadata": {},
     "output_type": "display_data"
    }
   ],
   "source": [
    "def make_mesh(image, threshold=-300, step_size=1):\n",
    "    print(\"Transposing surface\")\n",
    "    p = image.transpose(2, 1, 0)\n",
    "    #print(p.shape)\n",
    "\n",
    "    print(\"Calculating surface\")\n",
    "    verts, faces, norm, val = measure.marching_cubes_lewiner(p, threshold, step_size=step_size, allow_degenerate=True)\n",
    "    #print (\"v\",verts.shape)\n",
    "    #print(\"f\",faces)\n",
    "    #print(\"n\",norm) \n",
    "    #print(\"v\",val)\n",
    "    return verts, faces\n",
    "\n",
    "\n",
    "def plotly_3d(verts, faces):\n",
    "    x, y, z = zip(*verts)\n",
    "\n",
    "    print (\"Drawing\")\n",
    "\n",
    "    # Make the colormap single color since the axes are positional not intensity.\n",
    "    #colormap=['rgb(255,105,180)','rgb(255,255,51)','rgb(0,191,255)']\n",
    "    colormap = ['rgb(236, 236, 212)', 'rgb(236, 236, 212)']\n",
    "    \n",
    "\n",
    "    fig = FF.create_trisurf(x=x,\n",
    "                            y=y,\n",
    "                            z=z,\n",
    "                            plot_edges=False,\n",
    "                            colormap=colormap,\n",
    "                            simplices=faces,\n",
    "                            backgroundcolor='rgb(64, 64, 64)',\n",
    "                            title=\"Interactive Visualization\")\n",
    "    iplot(fig)\n",
    "\n",
    "\n",
    "def plt_3d(verts, faces):\n",
    "    print(\"Drawing\")\n",
    "    x, y, z = zip(*verts)\n",
    "    fig = plt.figure(figsize=(10, 10))\n",
    "    ax = fig.add_subplot(111, projection='3d')\n",
    "\n",
    "    # Fancy indexing: `verts[faces]` to generate a collection of triangles\n",
    "    mesh = Poly3DCollection(verts[faces], linewidths=0.05, alpha=1)\n",
    "    face_color = [1, 1, 0.9]\n",
    "    mesh.set_facecolor(face_color)\n",
    "    ax.add_collection3d(mesh)\n",
    "\n",
    "    ax.set_xlim(0, max(x))\n",
    "    ax.set_ylim(0, max(y))\n",
    "    ax.set_zlim(0, max(z))\n",
    "    #ax.set_axis_bgcolor((0.7, 0.7, 0.7))\n",
    "    ax.patch.set_facecolor((0.10, 0.10, 0.10))\n",
    "    #plt.savefig(\"./plot/3d_i2_106_2.png\")\n",
    "    #plt.show()\n",
    "\n",
    "v, f = make_mesh(preds_train2[80], 350)\n",
    "#v, f = make_mesh(y14, 350)\n",
    "plt_3d(v, f)\n",
    "\n"
   ]
  },
  {
   "cell_type": "code",
   "execution_count": 99,
   "metadata": {},
   "outputs": [
    {
     "name": "stdout",
     "output_type": "stream",
     "text": [
      "[[[-6.34811768e+02 -1.00210706e+03 -1.15252783e+03 ... -2.16158984e+03\n",
      "   -3.28270898e+03 -2.45589551e+03]\n",
      "  [-4.53801605e+02 -1.66836218e+03 -8.68601746e+02 ... -1.45198621e+03\n",
      "   -2.18766553e+03 -1.22325439e+03]\n",
      "  [-4.23122955e+02 -9.12073364e+02 -4.04187073e+02 ... -1.28393445e+03\n",
      "   -1.78360315e+03 -6.35551819e+02]\n",
      "  ...\n",
      "  [ 3.98924683e+02 -1.16196826e+03 -2.70349182e+02 ... -1.34683826e+03\n",
      "   -3.49560333e+02 -1.15440588e+03]\n",
      "  [-1.36990341e+02 -1.15630322e+03 -1.66189240e+02 ...  2.60507385e+02\n",
      "    1.01076514e+03  8.73892273e+02]\n",
      "  [-1.28996240e+03 -1.87005054e+03 -1.33988635e+03 ... -1.30570349e+03\n",
      "    6.89751648e+02  1.24874390e+03]]\n",
      "\n",
      " [[ 1.35425867e+03  1.07794373e+03 -3.06915771e+02 ... -6.92349670e+02\n",
      "   -4.38472168e+03 -3.36460669e+03]\n",
      "  [ 5.26208252e+02 -1.30766565e+03 -1.98139441e+03 ... -2.10398682e+03\n",
      "   -4.24048584e+03 -3.55243433e+03]\n",
      "  [ 8.29896118e+02  4.23796021e+02 -3.36918678e+01 ... -7.34217407e+02\n",
      "   -2.14492261e+03 -1.95744031e+03]\n",
      "  ...\n",
      "  [-9.36454590e+02 -1.64327124e+03 -1.36725220e+03 ... -1.61943201e+03\n",
      "   -1.19797638e+02 -1.76156006e+03]\n",
      "  [-2.36952316e+02 -1.83523413e+03 -7.15379211e+02 ... -6.24339722e+02\n",
      "    4.63012299e+02 -1.52402173e+03]\n",
      "  [-1.38191699e+03 -1.41888892e+03 -7.49432800e+02 ... -1.27522278e+03\n",
      "    1.26109412e+03  8.01719788e+02]]\n",
      "\n",
      " [[-9.27961609e+02  1.40968109e+02 -1.56251892e+03 ... -2.04097253e+03\n",
      "   -5.16863721e+03 -3.58737183e+03]\n",
      "  [-7.78151321e+01 -3.52605804e+02 -8.79851440e+02 ... -1.07713086e+03\n",
      "   -3.76066699e+03 -2.87554663e+03]\n",
      "  [-3.44420624e+02  3.03652985e+02  3.59837097e+02 ... -3.88192078e+02\n",
      "   -2.21195557e+03 -1.36879065e+03]\n",
      "  ...\n",
      "  [-1.22477502e+03 -1.59786218e+03 -1.25492444e+03 ... -1.43432812e+03\n",
      "   -1.35667261e+03 -1.51119128e+03]\n",
      "  [-4.38854492e+02 -2.52658057e+03 -1.55680737e+03 ... -1.31588757e+03\n",
      "   -1.55841504e+03 -9.63115845e+02]\n",
      "  [-7.07009033e+02 -1.37854309e+03  1.12587334e+02 ... -5.89245850e+02\n",
      "    1.83770728e+03  1.47904761e+03]]\n",
      "\n",
      " ...\n",
      "\n",
      " [[-4.24451080e+02  1.31001038e+03 -1.59809888e+03 ... -2.49192261e+03\n",
      "   -5.33542822e+03 -5.39490088e+03]\n",
      "  [ 5.06974030e+02  4.35235474e+02 -8.73640564e+02 ... -1.53113843e+03\n",
      "   -3.70267969e+03 -3.90438599e+03]\n",
      "  [ 3.85155884e+02  8.86859680e+02 -2.00864594e+02 ... -1.24862219e+03\n",
      "   -2.25973682e+03 -2.99637158e+03]\n",
      "  ...\n",
      "  [-4.07711212e+02 -9.73608017e+00 -3.15318512e+02 ... -8.61733826e+02\n",
      "   -8.03558777e+02 -2.22556274e+03]\n",
      "  [ 3.48443604e+02 -1.11610400e+03 -3.96773590e+02 ... -8.45849487e+02\n",
      "   -5.98403625e+02 -1.62711157e+03]\n",
      "  [ 1.49139328e+02 -1.54686060e+03 -2.51824692e+02 ... -8.35040710e+02\n",
      "    1.61054443e+03  4.22444824e+02]]\n",
      "\n",
      " [[-7.33958862e+02  5.44789734e+02 -2.27670630e+03 ... -2.10311597e+03\n",
      "   -5.28625000e+03 -4.91766895e+03]\n",
      "  [ 1.30712988e+03  8.01002991e+02 -1.04872278e+03 ... -5.58075073e+02\n",
      "   -3.45879272e+03 -4.81428369e+03]\n",
      "  [ 1.30887122e+03  9.87509460e+02 -2.99604004e+02 ... -5.29044495e+02\n",
      "   -2.91811646e+03 -4.65698340e+03]\n",
      "  ...\n",
      "  [ 8.24911926e+02  6.89396118e+02 -7.44246277e+02 ...  1.00722485e+01\n",
      "   -1.50019067e+03 -3.74463989e+03]\n",
      "  [ 1.53661292e+03 -5.88260071e+02 -3.40037628e+02 ... -9.81999817e+02\n",
      "   -1.63811841e+03 -4.19283398e+03]\n",
      "  [ 1.73993616e+03 -1.04495156e+00  6.62706421e+02 ...  1.68767715e+02\n",
      "    1.33365295e+03 -8.73395691e+02]]\n",
      "\n",
      " [[-5.30621460e+02  1.46877722e+03 -1.35987341e+03 ... -1.13397815e+03\n",
      "   -2.77779858e+03 -3.75976685e+03]\n",
      "  [ 1.59141150e+03  2.45212451e+03  5.01878448e+02 ...  1.33985611e+02\n",
      "   -2.44147778e+03 -3.49668262e+03]\n",
      "  [ 1.23227979e+03  1.79971265e+03 -1.00101578e+02 ... -5.10949524e+02\n",
      "   -2.03284802e+03 -3.53923486e+03]\n",
      "  ...\n",
      "  [ 7.80619568e+02  1.26342456e+03  2.80403717e+02 ...  2.00996216e+02\n",
      "   -1.79168054e+03 -2.80093262e+03]\n",
      "  [ 2.20762915e+03  6.74776245e+02  9.16685715e+01 ... -3.07556183e+02\n",
      "   -2.04493958e+03 -3.57273730e+03]\n",
      "  [ 1.77213330e+03 -5.20429016e+02  8.09073120e+02 ... -9.73803024e+01\n",
      "    7.65079269e+01 -1.88655151e+03]]]\n",
      "Transposing surface\n",
      "Calculating surface\n",
      "Drawing\n"
     ]
    },
    {
     "name": "stderr",
     "output_type": "stream",
     "text": [
      "D:\\Anaconda3\\envs\\deep\\lib\\site-packages\\plotly\\tools.py:592: UserWarning:\n",
      "\n",
      "plotly.tools.FigureFactory.create_trisurf is deprecated. Use plotly.figure_factory.create_trisurf\n",
      "\n"
     ]
    },
    {
     "data": {
      "application/vnd.plotly.v1+json": {
       "config": {
        "linkText": "Export to plot.ly",
        "plotlyServerURL": "https://plot.ly",
        "showLink": false
       },
       "data": [
        {
         "facecolor": [
          "rgb(236, 236, 212)",
          "rgb(236, 236, 212)",
          "rgb(236, 236, 212)",
          "rgb(236, 236, 212)",
          "rgb(236, 236, 212)",
          "rgb(236, 236, 212)",
          "rgb(236, 236, 212)",
          "rgb(236, 236, 212)",
          "rgb(236, 236, 212)",
          "rgb(236, 236, 212)",
          "rgb(236, 236, 212)",
          "rgb(236, 236, 212)",
          "rgb(236, 236, 212)",
          "rgb(236, 236, 212)",
          "rgb(236, 236, 212)",
          "rgb(236, 236, 212)",
          "rgb(236, 236, 212)",
          "rgb(236, 236, 212)",
          "rgb(236, 236, 212)",
          "rgb(236, 236, 212)"
         ],
         "i": [
          2,
          4,
          2,
          6,
          4,
          6,
          10,
          13,
          16,
          14,
          17,
          17,
          19,
          19,
          21,
          21,
          23,
          24,
          28,
          27
         ],
         "j": [
          1,
          3,
          3,
          5,
          5,
          7,
          9,
          12,
          15,
          15,
          15,
          18,
          18,
          20,
          20,
          22,
          22,
          25,
          27,
          29
         ],
         "k": [
          0,
          2,
          1,
          4,
          3,
          5,
          8,
          11,
          14,
          17,
          18,
          19,
          20,
          21,
          22,
          23,
          24,
          23,
          26,
          26
         ],
         "name": "",
         "type": "mesh3d",
         "x": [
          0,
          0,
          0.9447200894355774,
          0,
          0.8866485357284546,
          0,
          0.43858280777931213,
          0,
          0,
          1.5898833274841309,
          0,
          0,
          0,
          1.476020097732544,
          124.8651351928711,
          126,
          126,
          125.8485336303711,
          126,
          125.36210632324219,
          126,
          125.63250732421875,
          126,
          125.75366973876953,
          126,
          126,
          125.98619842529297,
          126,
          126,
          126
         ],
         "y": [
          1.9765361547470093,
          3,
          3,
          6,
          6,
          9,
          9,
          10.29595947265625,
          125.15129089355469,
          126,
          126,
          123.1021499633789,
          126,
          126,
          60,
          60,
          57.32500457763672,
          63,
          63,
          66,
          66,
          69,
          69,
          72,
          72,
          72.58434295654297,
          87,
          87,
          86.95198059082031,
          87.0687255859375
         ],
         "z": [
          126,
          125.20613098144531,
          126,
          125.0186767578125,
          126,
          125.72227478027344,
          126,
          126,
          0,
          0,
          0.8050704598426819,
          126,
          124.29015350341797,
          126,
          126,
          125.2614517211914,
          126,
          126,
          125.73722076416016,
          126,
          125.60433959960938,
          126,
          125.62298583984375,
          126,
          125.86325073242188,
          126,
          126,
          125.98651885986328,
          126,
          126
         ]
        },
        {
         "hoverinfo": "none",
         "marker": {
          "color": [
           0.2683568298816681,
           125.9955062866211
          ],
          "colorscale": [
           [
            0,
            "rgb(236, 236, 212)"
           ],
           [
            1,
            "rgb(236, 236, 212)"
           ]
          ],
          "showscale": true,
          "size": 0.1
         },
         "mode": "markers",
         "showlegend": false,
         "type": "scatter3d",
         "x": [
          0
         ],
         "y": [
          1.9765361547470093
         ],
         "z": [
          126
         ]
        }
       ],
       "layout": {
        "height": 800,
        "scene": {
         "aspectratio": {
          "x": 1,
          "y": 1,
          "z": 1
         },
         "xaxis": {
          "backgroundcolor": "rgb(64, 64, 64)",
          "gridcolor": "rgb(255, 255, 255)",
          "showbackground": true,
          "zerolinecolor": "rgb(255, 255, 255)"
         },
         "yaxis": {
          "backgroundcolor": "rgb(64, 64, 64)",
          "gridcolor": "rgb(255, 255, 255)",
          "showbackground": true,
          "zerolinecolor": "rgb(255, 255, 255)"
         },
         "zaxis": {
          "backgroundcolor": "rgb(64, 64, 64)",
          "gridcolor": "rgb(255, 255, 255)",
          "showbackground": true,
          "zerolinecolor": "rgb(255, 255, 255)"
         }
        },
        "template": {
         "data": {
          "bar": [
           {
            "error_x": {
             "color": "#2a3f5f"
            },
            "error_y": {
             "color": "#2a3f5f"
            },
            "marker": {
             "line": {
              "color": "#E5ECF6",
              "width": 0.5
             }
            },
            "type": "bar"
           }
          ],
          "barpolar": [
           {
            "marker": {
             "line": {
              "color": "#E5ECF6",
              "width": 0.5
             }
            },
            "type": "barpolar"
           }
          ],
          "carpet": [
           {
            "aaxis": {
             "endlinecolor": "#2a3f5f",
             "gridcolor": "white",
             "linecolor": "white",
             "minorgridcolor": "white",
             "startlinecolor": "#2a3f5f"
            },
            "baxis": {
             "endlinecolor": "#2a3f5f",
             "gridcolor": "white",
             "linecolor": "white",
             "minorgridcolor": "white",
             "startlinecolor": "#2a3f5f"
            },
            "type": "carpet"
           }
          ],
          "choropleth": [
           {
            "colorbar": {
             "outlinewidth": 0,
             "ticks": ""
            },
            "type": "choropleth"
           }
          ],
          "contour": [
           {
            "colorbar": {
             "outlinewidth": 0,
             "ticks": ""
            },
            "colorscale": [
             [
              0,
              "#0d0887"
             ],
             [
              0.1111111111111111,
              "#46039f"
             ],
             [
              0.2222222222222222,
              "#7201a8"
             ],
             [
              0.3333333333333333,
              "#9c179e"
             ],
             [
              0.4444444444444444,
              "#bd3786"
             ],
             [
              0.5555555555555556,
              "#d8576b"
             ],
             [
              0.6666666666666666,
              "#ed7953"
             ],
             [
              0.7777777777777778,
              "#fb9f3a"
             ],
             [
              0.8888888888888888,
              "#fdca26"
             ],
             [
              1,
              "#f0f921"
             ]
            ],
            "type": "contour"
           }
          ],
          "contourcarpet": [
           {
            "colorbar": {
             "outlinewidth": 0,
             "ticks": ""
            },
            "type": "contourcarpet"
           }
          ],
          "heatmap": [
           {
            "colorbar": {
             "outlinewidth": 0,
             "ticks": ""
            },
            "colorscale": [
             [
              0,
              "#0d0887"
             ],
             [
              0.1111111111111111,
              "#46039f"
             ],
             [
              0.2222222222222222,
              "#7201a8"
             ],
             [
              0.3333333333333333,
              "#9c179e"
             ],
             [
              0.4444444444444444,
              "#bd3786"
             ],
             [
              0.5555555555555556,
              "#d8576b"
             ],
             [
              0.6666666666666666,
              "#ed7953"
             ],
             [
              0.7777777777777778,
              "#fb9f3a"
             ],
             [
              0.8888888888888888,
              "#fdca26"
             ],
             [
              1,
              "#f0f921"
             ]
            ],
            "type": "heatmap"
           }
          ],
          "heatmapgl": [
           {
            "colorbar": {
             "outlinewidth": 0,
             "ticks": ""
            },
            "colorscale": [
             [
              0,
              "#0d0887"
             ],
             [
              0.1111111111111111,
              "#46039f"
             ],
             [
              0.2222222222222222,
              "#7201a8"
             ],
             [
              0.3333333333333333,
              "#9c179e"
             ],
             [
              0.4444444444444444,
              "#bd3786"
             ],
             [
              0.5555555555555556,
              "#d8576b"
             ],
             [
              0.6666666666666666,
              "#ed7953"
             ],
             [
              0.7777777777777778,
              "#fb9f3a"
             ],
             [
              0.8888888888888888,
              "#fdca26"
             ],
             [
              1,
              "#f0f921"
             ]
            ],
            "type": "heatmapgl"
           }
          ],
          "histogram": [
           {
            "marker": {
             "colorbar": {
              "outlinewidth": 0,
              "ticks": ""
             }
            },
            "type": "histogram"
           }
          ],
          "histogram2d": [
           {
            "colorbar": {
             "outlinewidth": 0,
             "ticks": ""
            },
            "colorscale": [
             [
              0,
              "#0d0887"
             ],
             [
              0.1111111111111111,
              "#46039f"
             ],
             [
              0.2222222222222222,
              "#7201a8"
             ],
             [
              0.3333333333333333,
              "#9c179e"
             ],
             [
              0.4444444444444444,
              "#bd3786"
             ],
             [
              0.5555555555555556,
              "#d8576b"
             ],
             [
              0.6666666666666666,
              "#ed7953"
             ],
             [
              0.7777777777777778,
              "#fb9f3a"
             ],
             [
              0.8888888888888888,
              "#fdca26"
             ],
             [
              1,
              "#f0f921"
             ]
            ],
            "type": "histogram2d"
           }
          ],
          "histogram2dcontour": [
           {
            "colorbar": {
             "outlinewidth": 0,
             "ticks": ""
            },
            "colorscale": [
             [
              0,
              "#0d0887"
             ],
             [
              0.1111111111111111,
              "#46039f"
             ],
             [
              0.2222222222222222,
              "#7201a8"
             ],
             [
              0.3333333333333333,
              "#9c179e"
             ],
             [
              0.4444444444444444,
              "#bd3786"
             ],
             [
              0.5555555555555556,
              "#d8576b"
             ],
             [
              0.6666666666666666,
              "#ed7953"
             ],
             [
              0.7777777777777778,
              "#fb9f3a"
             ],
             [
              0.8888888888888888,
              "#fdca26"
             ],
             [
              1,
              "#f0f921"
             ]
            ],
            "type": "histogram2dcontour"
           }
          ],
          "mesh3d": [
           {
            "colorbar": {
             "outlinewidth": 0,
             "ticks": ""
            },
            "type": "mesh3d"
           }
          ],
          "parcoords": [
           {
            "line": {
             "colorbar": {
              "outlinewidth": 0,
              "ticks": ""
             }
            },
            "type": "parcoords"
           }
          ],
          "pie": [
           {
            "automargin": true,
            "type": "pie"
           }
          ],
          "scatter": [
           {
            "marker": {
             "colorbar": {
              "outlinewidth": 0,
              "ticks": ""
             }
            },
            "type": "scatter"
           }
          ],
          "scatter3d": [
           {
            "line": {
             "colorbar": {
              "outlinewidth": 0,
              "ticks": ""
             }
            },
            "marker": {
             "colorbar": {
              "outlinewidth": 0,
              "ticks": ""
             }
            },
            "type": "scatter3d"
           }
          ],
          "scattercarpet": [
           {
            "marker": {
             "colorbar": {
              "outlinewidth": 0,
              "ticks": ""
             }
            },
            "type": "scattercarpet"
           }
          ],
          "scattergeo": [
           {
            "marker": {
             "colorbar": {
              "outlinewidth": 0,
              "ticks": ""
             }
            },
            "type": "scattergeo"
           }
          ],
          "scattergl": [
           {
            "marker": {
             "colorbar": {
              "outlinewidth": 0,
              "ticks": ""
             }
            },
            "type": "scattergl"
           }
          ],
          "scattermapbox": [
           {
            "marker": {
             "colorbar": {
              "outlinewidth": 0,
              "ticks": ""
             }
            },
            "type": "scattermapbox"
           }
          ],
          "scatterpolar": [
           {
            "marker": {
             "colorbar": {
              "outlinewidth": 0,
              "ticks": ""
             }
            },
            "type": "scatterpolar"
           }
          ],
          "scatterpolargl": [
           {
            "marker": {
             "colorbar": {
              "outlinewidth": 0,
              "ticks": ""
             }
            },
            "type": "scatterpolargl"
           }
          ],
          "scatterternary": [
           {
            "marker": {
             "colorbar": {
              "outlinewidth": 0,
              "ticks": ""
             }
            },
            "type": "scatterternary"
           }
          ],
          "surface": [
           {
            "colorbar": {
             "outlinewidth": 0,
             "ticks": ""
            },
            "colorscale": [
             [
              0,
              "#0d0887"
             ],
             [
              0.1111111111111111,
              "#46039f"
             ],
             [
              0.2222222222222222,
              "#7201a8"
             ],
             [
              0.3333333333333333,
              "#9c179e"
             ],
             [
              0.4444444444444444,
              "#bd3786"
             ],
             [
              0.5555555555555556,
              "#d8576b"
             ],
             [
              0.6666666666666666,
              "#ed7953"
             ],
             [
              0.7777777777777778,
              "#fb9f3a"
             ],
             [
              0.8888888888888888,
              "#fdca26"
             ],
             [
              1,
              "#f0f921"
             ]
            ],
            "type": "surface"
           }
          ],
          "table": [
           {
            "cells": {
             "fill": {
              "color": "#EBF0F8"
             },
             "line": {
              "color": "white"
             }
            },
            "header": {
             "fill": {
              "color": "#C8D4E3"
             },
             "line": {
              "color": "white"
             }
            },
            "type": "table"
           }
          ]
         },
         "layout": {
          "annotationdefaults": {
           "arrowcolor": "#2a3f5f",
           "arrowhead": 0,
           "arrowwidth": 1
          },
          "coloraxis": {
           "colorbar": {
            "outlinewidth": 0,
            "ticks": ""
           }
          },
          "colorscale": {
           "diverging": [
            [
             0,
             "#8e0152"
            ],
            [
             0.1,
             "#c51b7d"
            ],
            [
             0.2,
             "#de77ae"
            ],
            [
             0.3,
             "#f1b6da"
            ],
            [
             0.4,
             "#fde0ef"
            ],
            [
             0.5,
             "#f7f7f7"
            ],
            [
             0.6,
             "#e6f5d0"
            ],
            [
             0.7,
             "#b8e186"
            ],
            [
             0.8,
             "#7fbc41"
            ],
            [
             0.9,
             "#4d9221"
            ],
            [
             1,
             "#276419"
            ]
           ],
           "sequential": [
            [
             0,
             "#0d0887"
            ],
            [
             0.1111111111111111,
             "#46039f"
            ],
            [
             0.2222222222222222,
             "#7201a8"
            ],
            [
             0.3333333333333333,
             "#9c179e"
            ],
            [
             0.4444444444444444,
             "#bd3786"
            ],
            [
             0.5555555555555556,
             "#d8576b"
            ],
            [
             0.6666666666666666,
             "#ed7953"
            ],
            [
             0.7777777777777778,
             "#fb9f3a"
            ],
            [
             0.8888888888888888,
             "#fdca26"
            ],
            [
             1,
             "#f0f921"
            ]
           ],
           "sequentialminus": [
            [
             0,
             "#0d0887"
            ],
            [
             0.1111111111111111,
             "#46039f"
            ],
            [
             0.2222222222222222,
             "#7201a8"
            ],
            [
             0.3333333333333333,
             "#9c179e"
            ],
            [
             0.4444444444444444,
             "#bd3786"
            ],
            [
             0.5555555555555556,
             "#d8576b"
            ],
            [
             0.6666666666666666,
             "#ed7953"
            ],
            [
             0.7777777777777778,
             "#fb9f3a"
            ],
            [
             0.8888888888888888,
             "#fdca26"
            ],
            [
             1,
             "#f0f921"
            ]
           ]
          },
          "colorway": [
           "#636efa",
           "#EF553B",
           "#00cc96",
           "#ab63fa",
           "#FFA15A",
           "#19d3f3",
           "#FF6692",
           "#B6E880",
           "#FF97FF",
           "#FECB52"
          ],
          "font": {
           "color": "#2a3f5f"
          },
          "geo": {
           "bgcolor": "white",
           "lakecolor": "white",
           "landcolor": "#E5ECF6",
           "showlakes": true,
           "showland": true,
           "subunitcolor": "white"
          },
          "hoverlabel": {
           "align": "left"
          },
          "hovermode": "closest",
          "mapbox": {
           "style": "light"
          },
          "paper_bgcolor": "white",
          "plot_bgcolor": "#E5ECF6",
          "polar": {
           "angularaxis": {
            "gridcolor": "white",
            "linecolor": "white",
            "ticks": ""
           },
           "bgcolor": "#E5ECF6",
           "radialaxis": {
            "gridcolor": "white",
            "linecolor": "white",
            "ticks": ""
           }
          },
          "scene": {
           "xaxis": {
            "backgroundcolor": "#E5ECF6",
            "gridcolor": "white",
            "gridwidth": 2,
            "linecolor": "white",
            "showbackground": true,
            "ticks": "",
            "zerolinecolor": "white"
           },
           "yaxis": {
            "backgroundcolor": "#E5ECF6",
            "gridcolor": "white",
            "gridwidth": 2,
            "linecolor": "white",
            "showbackground": true,
            "ticks": "",
            "zerolinecolor": "white"
           },
           "zaxis": {
            "backgroundcolor": "#E5ECF6",
            "gridcolor": "white",
            "gridwidth": 2,
            "linecolor": "white",
            "showbackground": true,
            "ticks": "",
            "zerolinecolor": "white"
           }
          },
          "shapedefaults": {
           "line": {
            "color": "#2a3f5f"
           }
          },
          "ternary": {
           "aaxis": {
            "gridcolor": "white",
            "linecolor": "white",
            "ticks": ""
           },
           "baxis": {
            "gridcolor": "white",
            "linecolor": "white",
            "ticks": ""
           },
           "bgcolor": "#E5ECF6",
           "caxis": {
            "gridcolor": "white",
            "linecolor": "white",
            "ticks": ""
           }
          },
          "title": {
           "x": 0.05
          },
          "xaxis": {
           "automargin": true,
           "gridcolor": "white",
           "linecolor": "white",
           "ticks": "",
           "title": {
            "standoff": 15
           },
           "zerolinecolor": "white",
           "zerolinewidth": 2
          },
          "yaxis": {
           "automargin": true,
           "gridcolor": "white",
           "linecolor": "white",
           "ticks": "",
           "title": {
            "standoff": 15
           },
           "zerolinecolor": "white",
           "zerolinewidth": 2
          }
         }
        },
        "title": {
         "text": "Interactive Visualization"
        },
        "width": 800
       }
      },
      "text/html": [
       "<div>\n",
       "        \n",
       "        \n",
       "            <div id=\"cdcff07b-ac83-4841-aaea-0ab7de01c818\" class=\"plotly-graph-div\" style=\"height:800px; width:800px;\"></div>\n",
       "            <script type=\"text/javascript\">\n",
       "                require([\"plotly\"], function(Plotly) {\n",
       "                    window.PLOTLYENV=window.PLOTLYENV || {};\n",
       "                    \n",
       "                if (document.getElementById(\"cdcff07b-ac83-4841-aaea-0ab7de01c818\")) {\n",
       "                    Plotly.newPlot(\n",
       "                        'cdcff07b-ac83-4841-aaea-0ab7de01c818',\n",
       "                        [{\"facecolor\": [\"rgb(236, 236, 212)\", \"rgb(236, 236, 212)\", \"rgb(236, 236, 212)\", \"rgb(236, 236, 212)\", \"rgb(236, 236, 212)\", \"rgb(236, 236, 212)\", \"rgb(236, 236, 212)\", \"rgb(236, 236, 212)\", \"rgb(236, 236, 212)\", \"rgb(236, 236, 212)\", \"rgb(236, 236, 212)\", \"rgb(236, 236, 212)\", \"rgb(236, 236, 212)\", \"rgb(236, 236, 212)\", \"rgb(236, 236, 212)\", \"rgb(236, 236, 212)\", \"rgb(236, 236, 212)\", \"rgb(236, 236, 212)\", \"rgb(236, 236, 212)\", \"rgb(236, 236, 212)\"], \"i\": [2, 4, 2, 6, 4, 6, 10, 13, 16, 14, 17, 17, 19, 19, 21, 21, 23, 24, 28, 27], \"j\": [1, 3, 3, 5, 5, 7, 9, 12, 15, 15, 15, 18, 18, 20, 20, 22, 22, 25, 27, 29], \"k\": [0, 2, 1, 4, 3, 5, 8, 11, 14, 17, 18, 19, 20, 21, 22, 23, 24, 23, 26, 26], \"name\": \"\", \"type\": \"mesh3d\", \"x\": [0.0, 0.0, 0.9447200894355774, 0.0, 0.8866485357284546, 0.0, 0.43858280777931213, 0.0, 0.0, 1.5898833274841309, 0.0, 0.0, 0.0, 1.476020097732544, 124.8651351928711, 126.0, 126.0, 125.8485336303711, 126.0, 125.36210632324219, 126.0, 125.63250732421875, 126.0, 125.75366973876953, 126.0, 126.0, 125.98619842529297, 126.0, 126.0, 126.0], \"y\": [1.9765361547470093, 3.0, 3.0, 6.0, 6.0, 9.0, 9.0, 10.29595947265625, 125.15129089355469, 126.0, 126.0, 123.1021499633789, 126.0, 126.0, 60.0, 60.0, 57.32500457763672, 63.0, 63.0, 66.0, 66.0, 69.0, 69.0, 72.0, 72.0, 72.58434295654297, 87.0, 87.0, 86.95198059082031, 87.0687255859375], \"z\": [126.0, 125.20613098144531, 126.0, 125.0186767578125, 126.0, 125.72227478027344, 126.0, 126.0, 0.0, 0.0, 0.8050704598426819, 126.0, 124.29015350341797, 126.0, 126.0, 125.2614517211914, 126.0, 126.0, 125.73722076416016, 126.0, 125.60433959960938, 126.0, 125.62298583984375, 126.0, 125.86325073242188, 126.0, 126.0, 125.98651885986328, 126.0, 126.0]}, {\"hoverinfo\": \"none\", \"marker\": {\"color\": [0.2683568298816681, 125.9955062866211], \"colorscale\": [[0.0, \"rgb(236, 236, 212)\"], [1.0, \"rgb(236, 236, 212)\"]], \"showscale\": true, \"size\": 0.1}, \"mode\": \"markers\", \"showlegend\": false, \"type\": \"scatter3d\", \"x\": [0.0], \"y\": [1.9765361547470093], \"z\": [126.0]}],\n",
       "                        {\"height\": 800, \"scene\": {\"aspectratio\": {\"x\": 1, \"y\": 1, \"z\": 1}, \"xaxis\": {\"backgroundcolor\": \"rgb(64, 64, 64)\", \"gridcolor\": \"rgb(255, 255, 255)\", \"showbackground\": true, \"zerolinecolor\": \"rgb(255, 255, 255)\"}, \"yaxis\": {\"backgroundcolor\": \"rgb(64, 64, 64)\", \"gridcolor\": \"rgb(255, 255, 255)\", \"showbackground\": true, \"zerolinecolor\": \"rgb(255, 255, 255)\"}, \"zaxis\": {\"backgroundcolor\": \"rgb(64, 64, 64)\", \"gridcolor\": \"rgb(255, 255, 255)\", \"showbackground\": true, \"zerolinecolor\": \"rgb(255, 255, 255)\"}}, \"template\": {\"data\": {\"bar\": [{\"error_x\": {\"color\": \"#2a3f5f\"}, \"error_y\": {\"color\": \"#2a3f5f\"}, \"marker\": {\"line\": {\"color\": \"#E5ECF6\", \"width\": 0.5}}, \"type\": \"bar\"}], \"barpolar\": [{\"marker\": {\"line\": {\"color\": \"#E5ECF6\", \"width\": 0.5}}, \"type\": \"barpolar\"}], \"carpet\": [{\"aaxis\": {\"endlinecolor\": \"#2a3f5f\", \"gridcolor\": \"white\", \"linecolor\": \"white\", \"minorgridcolor\": \"white\", \"startlinecolor\": \"#2a3f5f\"}, \"baxis\": {\"endlinecolor\": \"#2a3f5f\", \"gridcolor\": \"white\", \"linecolor\": \"white\", \"minorgridcolor\": \"white\", \"startlinecolor\": \"#2a3f5f\"}, \"type\": \"carpet\"}], \"choropleth\": [{\"colorbar\": {\"outlinewidth\": 0, \"ticks\": \"\"}, \"type\": \"choropleth\"}], \"contour\": [{\"colorbar\": {\"outlinewidth\": 0, \"ticks\": \"\"}, \"colorscale\": [[0.0, \"#0d0887\"], [0.1111111111111111, \"#46039f\"], [0.2222222222222222, \"#7201a8\"], [0.3333333333333333, \"#9c179e\"], [0.4444444444444444, \"#bd3786\"], [0.5555555555555556, \"#d8576b\"], [0.6666666666666666, \"#ed7953\"], [0.7777777777777778, \"#fb9f3a\"], [0.8888888888888888, \"#fdca26\"], [1.0, \"#f0f921\"]], \"type\": \"contour\"}], \"contourcarpet\": [{\"colorbar\": {\"outlinewidth\": 0, \"ticks\": \"\"}, \"type\": \"contourcarpet\"}], \"heatmap\": [{\"colorbar\": {\"outlinewidth\": 0, \"ticks\": \"\"}, \"colorscale\": [[0.0, \"#0d0887\"], [0.1111111111111111, \"#46039f\"], [0.2222222222222222, \"#7201a8\"], [0.3333333333333333, \"#9c179e\"], [0.4444444444444444, \"#bd3786\"], [0.5555555555555556, \"#d8576b\"], [0.6666666666666666, \"#ed7953\"], [0.7777777777777778, \"#fb9f3a\"], [0.8888888888888888, \"#fdca26\"], [1.0, \"#f0f921\"]], \"type\": \"heatmap\"}], \"heatmapgl\": [{\"colorbar\": {\"outlinewidth\": 0, \"ticks\": \"\"}, \"colorscale\": [[0.0, \"#0d0887\"], [0.1111111111111111, \"#46039f\"], [0.2222222222222222, \"#7201a8\"], [0.3333333333333333, \"#9c179e\"], [0.4444444444444444, \"#bd3786\"], [0.5555555555555556, \"#d8576b\"], [0.6666666666666666, \"#ed7953\"], [0.7777777777777778, \"#fb9f3a\"], [0.8888888888888888, \"#fdca26\"], [1.0, \"#f0f921\"]], \"type\": \"heatmapgl\"}], \"histogram\": [{\"marker\": {\"colorbar\": {\"outlinewidth\": 0, \"ticks\": \"\"}}, \"type\": \"histogram\"}], \"histogram2d\": [{\"colorbar\": {\"outlinewidth\": 0, \"ticks\": \"\"}, \"colorscale\": [[0.0, \"#0d0887\"], [0.1111111111111111, \"#46039f\"], [0.2222222222222222, \"#7201a8\"], [0.3333333333333333, \"#9c179e\"], [0.4444444444444444, \"#bd3786\"], [0.5555555555555556, \"#d8576b\"], [0.6666666666666666, \"#ed7953\"], [0.7777777777777778, \"#fb9f3a\"], [0.8888888888888888, \"#fdca26\"], [1.0, \"#f0f921\"]], \"type\": \"histogram2d\"}], \"histogram2dcontour\": [{\"colorbar\": {\"outlinewidth\": 0, \"ticks\": \"\"}, \"colorscale\": [[0.0, \"#0d0887\"], [0.1111111111111111, \"#46039f\"], [0.2222222222222222, \"#7201a8\"], [0.3333333333333333, \"#9c179e\"], [0.4444444444444444, \"#bd3786\"], [0.5555555555555556, \"#d8576b\"], [0.6666666666666666, \"#ed7953\"], [0.7777777777777778, \"#fb9f3a\"], [0.8888888888888888, \"#fdca26\"], [1.0, \"#f0f921\"]], \"type\": \"histogram2dcontour\"}], \"mesh3d\": [{\"colorbar\": {\"outlinewidth\": 0, \"ticks\": \"\"}, \"type\": \"mesh3d\"}], \"parcoords\": [{\"line\": {\"colorbar\": {\"outlinewidth\": 0, \"ticks\": \"\"}}, \"type\": \"parcoords\"}], \"pie\": [{\"automargin\": true, \"type\": \"pie\"}], \"scatter\": [{\"marker\": {\"colorbar\": {\"outlinewidth\": 0, \"ticks\": \"\"}}, \"type\": \"scatter\"}], \"scatter3d\": [{\"line\": {\"colorbar\": {\"outlinewidth\": 0, \"ticks\": \"\"}}, \"marker\": {\"colorbar\": {\"outlinewidth\": 0, \"ticks\": \"\"}}, \"type\": \"scatter3d\"}], \"scattercarpet\": [{\"marker\": {\"colorbar\": {\"outlinewidth\": 0, \"ticks\": \"\"}}, \"type\": \"scattercarpet\"}], \"scattergeo\": [{\"marker\": {\"colorbar\": {\"outlinewidth\": 0, \"ticks\": \"\"}}, \"type\": \"scattergeo\"}], \"scattergl\": [{\"marker\": {\"colorbar\": {\"outlinewidth\": 0, \"ticks\": \"\"}}, \"type\": \"scattergl\"}], \"scattermapbox\": [{\"marker\": {\"colorbar\": {\"outlinewidth\": 0, \"ticks\": \"\"}}, \"type\": \"scattermapbox\"}], \"scatterpolar\": [{\"marker\": {\"colorbar\": {\"outlinewidth\": 0, \"ticks\": \"\"}}, \"type\": \"scatterpolar\"}], \"scatterpolargl\": [{\"marker\": {\"colorbar\": {\"outlinewidth\": 0, \"ticks\": \"\"}}, \"type\": \"scatterpolargl\"}], \"scatterternary\": [{\"marker\": {\"colorbar\": {\"outlinewidth\": 0, \"ticks\": \"\"}}, \"type\": \"scatterternary\"}], \"surface\": [{\"colorbar\": {\"outlinewidth\": 0, \"ticks\": \"\"}, \"colorscale\": [[0.0, \"#0d0887\"], [0.1111111111111111, \"#46039f\"], [0.2222222222222222, \"#7201a8\"], [0.3333333333333333, \"#9c179e\"], [0.4444444444444444, \"#bd3786\"], [0.5555555555555556, \"#d8576b\"], [0.6666666666666666, \"#ed7953\"], [0.7777777777777778, \"#fb9f3a\"], [0.8888888888888888, \"#fdca26\"], [1.0, \"#f0f921\"]], \"type\": \"surface\"}], \"table\": [{\"cells\": {\"fill\": {\"color\": \"#EBF0F8\"}, \"line\": {\"color\": \"white\"}}, \"header\": {\"fill\": {\"color\": \"#C8D4E3\"}, \"line\": {\"color\": \"white\"}}, \"type\": \"table\"}]}, \"layout\": {\"annotationdefaults\": {\"arrowcolor\": \"#2a3f5f\", \"arrowhead\": 0, \"arrowwidth\": 1}, \"coloraxis\": {\"colorbar\": {\"outlinewidth\": 0, \"ticks\": \"\"}}, \"colorscale\": {\"diverging\": [[0, \"#8e0152\"], [0.1, \"#c51b7d\"], [0.2, \"#de77ae\"], [0.3, \"#f1b6da\"], [0.4, \"#fde0ef\"], [0.5, \"#f7f7f7\"], [0.6, \"#e6f5d0\"], [0.7, \"#b8e186\"], [0.8, \"#7fbc41\"], [0.9, \"#4d9221\"], [1, \"#276419\"]], \"sequential\": [[0.0, \"#0d0887\"], [0.1111111111111111, \"#46039f\"], [0.2222222222222222, \"#7201a8\"], [0.3333333333333333, \"#9c179e\"], [0.4444444444444444, \"#bd3786\"], [0.5555555555555556, \"#d8576b\"], [0.6666666666666666, \"#ed7953\"], [0.7777777777777778, \"#fb9f3a\"], [0.8888888888888888, \"#fdca26\"], [1.0, \"#f0f921\"]], \"sequentialminus\": [[0.0, \"#0d0887\"], [0.1111111111111111, \"#46039f\"], [0.2222222222222222, \"#7201a8\"], [0.3333333333333333, \"#9c179e\"], [0.4444444444444444, \"#bd3786\"], [0.5555555555555556, \"#d8576b\"], [0.6666666666666666, \"#ed7953\"], [0.7777777777777778, \"#fb9f3a\"], [0.8888888888888888, \"#fdca26\"], [1.0, \"#f0f921\"]]}, \"colorway\": [\"#636efa\", \"#EF553B\", \"#00cc96\", \"#ab63fa\", \"#FFA15A\", \"#19d3f3\", \"#FF6692\", \"#B6E880\", \"#FF97FF\", \"#FECB52\"], \"font\": {\"color\": \"#2a3f5f\"}, \"geo\": {\"bgcolor\": \"white\", \"lakecolor\": \"white\", \"landcolor\": \"#E5ECF6\", \"showlakes\": true, \"showland\": true, \"subunitcolor\": \"white\"}, \"hoverlabel\": {\"align\": \"left\"}, \"hovermode\": \"closest\", \"mapbox\": {\"style\": \"light\"}, \"paper_bgcolor\": \"white\", \"plot_bgcolor\": \"#E5ECF6\", \"polar\": {\"angularaxis\": {\"gridcolor\": \"white\", \"linecolor\": \"white\", \"ticks\": \"\"}, \"bgcolor\": \"#E5ECF6\", \"radialaxis\": {\"gridcolor\": \"white\", \"linecolor\": \"white\", \"ticks\": \"\"}}, \"scene\": {\"xaxis\": {\"backgroundcolor\": \"#E5ECF6\", \"gridcolor\": \"white\", \"gridwidth\": 2, \"linecolor\": \"white\", \"showbackground\": true, \"ticks\": \"\", \"zerolinecolor\": \"white\"}, \"yaxis\": {\"backgroundcolor\": \"#E5ECF6\", \"gridcolor\": \"white\", \"gridwidth\": 2, \"linecolor\": \"white\", \"showbackground\": true, \"ticks\": \"\", \"zerolinecolor\": \"white\"}, \"zaxis\": {\"backgroundcolor\": \"#E5ECF6\", \"gridcolor\": \"white\", \"gridwidth\": 2, \"linecolor\": \"white\", \"showbackground\": true, \"ticks\": \"\", \"zerolinecolor\": \"white\"}}, \"shapedefaults\": {\"line\": {\"color\": \"#2a3f5f\"}}, \"ternary\": {\"aaxis\": {\"gridcolor\": \"white\", \"linecolor\": \"white\", \"ticks\": \"\"}, \"baxis\": {\"gridcolor\": \"white\", \"linecolor\": \"white\", \"ticks\": \"\"}, \"bgcolor\": \"#E5ECF6\", \"caxis\": {\"gridcolor\": \"white\", \"linecolor\": \"white\", \"ticks\": \"\"}}, \"title\": {\"x\": 0.05}, \"xaxis\": {\"automargin\": true, \"gridcolor\": \"white\", \"linecolor\": \"white\", \"ticks\": \"\", \"title\": {\"standoff\": 15}, \"zerolinecolor\": \"white\", \"zerolinewidth\": 2}, \"yaxis\": {\"automargin\": true, \"gridcolor\": \"white\", \"linecolor\": \"white\", \"ticks\": \"\", \"title\": {\"standoff\": 15}, \"zerolinecolor\": \"white\", \"zerolinewidth\": 2}}}, \"title\": {\"text\": \"Interactive Visualization\"}, \"width\": 800},\n",
       "                        {\"responsive\": true}\n",
       "                    ).then(function(){\n",
       "                            \n",
       "var gd = document.getElementById('cdcff07b-ac83-4841-aaea-0ab7de01c818');\n",
       "var x = new MutationObserver(function (mutations, observer) {{\n",
       "        var display = window.getComputedStyle(gd).display;\n",
       "        if (!display || display === 'none') {{\n",
       "            console.log([gd, 'removed!']);\n",
       "            Plotly.purge(gd);\n",
       "            observer.disconnect();\n",
       "        }}\n",
       "}});\n",
       "\n",
       "// Listen for the removal of the full notebook cells\n",
       "var notebookContainer = gd.closest('#notebook-container');\n",
       "if (notebookContainer) {{\n",
       "    x.observe(notebookContainer, {childList: true});\n",
       "}}\n",
       "\n",
       "// Listen for the clearing of the current output cell\n",
       "var outputEl = gd.closest('.output');\n",
       "if (outputEl) {{\n",
       "    x.observe(outputEl, {childList: true});\n",
       "}}\n",
       "\n",
       "                        })\n",
       "                };\n",
       "                });\n",
       "            </script>\n",
       "        </div>"
      ]
     },
     "metadata": {},
     "output_type": "display_data"
    }
   ],
   "source": [
    "print(preds_train2[14])\n",
    "v, f = make_mesh(preds_val2[35], 350,3)\n",
    "#v, f = make_mesh(y14, 350,3)\n",
    "#print(preds_train1[6])\n",
    "plotly_3d(v, f)"
   ]
  },
  {
   "cell_type": "code",
   "execution_count": null,
   "metadata": {},
   "outputs": [],
   "source": [
    "x=preds_val1.min()\n",
    "print(x)"
   ]
  },
  {
   "cell_type": "code",
   "execution_count": null,
   "metadata": {},
   "outputs": [],
   "source": []
  }
 ],
 "metadata": {
  "kernelspec": {
   "display_name": "deep",
   "language": "python",
   "name": "deep"
  },
  "language_info": {
   "codemirror_mode": {
    "name": "ipython",
    "version": 3
   },
   "file_extension": ".py",
   "mimetype": "text/x-python",
   "name": "python",
   "nbconvert_exporter": "python",
   "pygments_lexer": "ipython3",
   "version": "3.6.10"
  }
 },
 "nbformat": 4,
 "nbformat_minor": 4
}
